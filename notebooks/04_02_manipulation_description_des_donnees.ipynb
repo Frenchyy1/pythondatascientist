{
 "cells": [
  {
   "cell_type": "markdown",
   "metadata": {},
   "source": [
    "# Chapitre 4 - La préparation des données et les premières statistiques (2ème partie)\n",
    "\n",
    "Avant de rentrer dans le détail de ce chapitre, nous allons commencer par charger les packages et importer les données nécessaies aux traitements."
   ]
  },
  {
   "cell_type": "code",
   "execution_count": 1,
   "metadata": {},
   "outputs": [],
   "source": [
    "import pandas as pd\n",
    "import numpy as np\n",
    "import matplotlib.pyplot as plt\n",
    "%matplotlib inline"
   ]
  },
  {
   "cell_type": "markdown",
   "metadata": {},
   "source": [
    "Données AirBnB"
   ]
  },
  {
   "cell_type": "code",
   "execution_count": 2,
   "metadata": {},
   "outputs": [],
   "source": [
    "# Import d'un extrait\n",
    "listing=pd.read_csv(\"../data/listing_extrait.csv\", index_col=0)\n",
    "calendar=pd.read_csv(\"../data/calendar_extrait.csv\",index_col=0)\n",
    "# Import du fichier complet\n",
    "#listing=pd.read_csv(\"https://www.stat4decision.com/listing.csv.gz\", index_col=0)\n",
    "#calendar=pd.read_csv(\"https://www.stat4decision.com/calendar.csv.gz\", index_col=0)"
   ]
  },
  {
   "cell_type": "markdown",
   "metadata": {},
   "source": [
    "Données sur les employés de la ville de Boston"
   ]
  },
  {
   "cell_type": "code",
   "execution_count": 3,
   "metadata": {},
   "outputs": [],
   "source": [
    "boston=pd.read_csv(\"../data/employee-earnings-report-2017.csv\")"
   ]
  },
  {
   "cell_type": "markdown",
   "metadata": {},
   "source": [
    "## 4.3 Décrire et transformer des colonnes\n",
    "### 4.3.1 D écrire la structure de vos données\n",
    "Quel que soit le type de structure que vous utilisez ; les arrays, les Series ou\n",
    "les DataFrame, on utilise généralement une propriété de ces objets : la propriété\n",
    "    .shape. Celle-ci renvoie toujours un tuple, qui aura autant d’éléments que de dimensions\n",
    "dans vos données."
   ]
  },
  {
   "cell_type": "code",
   "execution_count": 4,
   "metadata": {},
   "outputs": [
    {
     "data": {
      "text/plain": [
       "(10000, 4)"
      ]
     },
     "execution_count": 4,
     "metadata": {},
     "output_type": "execute_result"
    }
   ],
   "source": [
    "calendar.shape"
   ]
  },
  {
   "cell_type": "markdown",
   "metadata": {},
   "source": [
    "Cette information est importante mais reste peu détaillée. Lorsqu’on travaille sur\n",
    "un DataFrame, on va chercher à avoir beaucoup plus de détails. Pour cela, nous allons\n",
    "utiliser la méthode .info(). Si nous prenons le jeu de données des occupations des\n",
    "logements AirBnB, nous aurons :"
   ]
  },
  {
   "cell_type": "code",
   "execution_count": 5,
   "metadata": {},
   "outputs": [
    {
     "name": "stdout",
     "output_type": "stream",
     "text": [
      "<class 'pandas.core.frame.DataFrame'>\n",
      "Int64Index: 10000 entries, 6957237 to 16285143\n",
      "Data columns (total 4 columns):\n",
      "listing_id    10000 non-null int64\n",
      "date          10000 non-null object\n",
      "available     10000 non-null object\n",
      "price         2684 non-null object\n",
      "dtypes: int64(1), object(3)\n",
      "memory usage: 390.6+ KB\n"
     ]
    }
   ],
   "source": [
    "calendar.info()"
   ]
  },
  {
   "cell_type": "markdown",
   "metadata": {},
   "source": [
    "Une autre étape importante est l’étude de l’aspect de notre DataFrame, on peut\n",
    "par exemple afficher les premières lignes du jeu de données."
   ]
  },
  {
   "cell_type": "code",
   "execution_count": 6,
   "metadata": {},
   "outputs": [
    {
     "data": {
      "text/html": [
       "<div>\n",
       "<style scoped>\n",
       "    .dataframe tbody tr th:only-of-type {\n",
       "        vertical-align: middle;\n",
       "    }\n",
       "\n",
       "    .dataframe tbody tr th {\n",
       "        vertical-align: top;\n",
       "    }\n",
       "\n",
       "    .dataframe thead th {\n",
       "        text-align: right;\n",
       "    }\n",
       "</style>\n",
       "<table border=\"1\" class=\"dataframe\">\n",
       "  <thead>\n",
       "    <tr style=\"text-align: right;\">\n",
       "      <th></th>\n",
       "      <th>listing_id</th>\n",
       "      <th>date</th>\n",
       "      <th>available</th>\n",
       "      <th>price</th>\n",
       "    </tr>\n",
       "  </thead>\n",
       "  <tbody>\n",
       "    <tr>\n",
       "      <th>6957237</th>\n",
       "      <td>9343186</td>\n",
       "      <td>2018-04-04</td>\n",
       "      <td>f</td>\n",
       "      <td>NaN</td>\n",
       "    </tr>\n",
       "    <tr>\n",
       "      <th>19051376</th>\n",
       "      <td>7119308</td>\n",
       "      <td>2018-07-22</td>\n",
       "      <td>f</td>\n",
       "      <td>NaN</td>\n",
       "    </tr>\n",
       "    <tr>\n",
       "      <th>19756890</th>\n",
       "      <td>9772330</td>\n",
       "      <td>2018-07-12</td>\n",
       "      <td>f</td>\n",
       "      <td>NaN</td>\n",
       "    </tr>\n",
       "    <tr>\n",
       "      <th>1662189</th>\n",
       "      <td>22560208</td>\n",
       "      <td>2018-03-27</td>\n",
       "      <td>f</td>\n",
       "      <td>NaN</td>\n",
       "    </tr>\n",
       "    <tr>\n",
       "      <th>1488365</th>\n",
       "      <td>1753467</td>\n",
       "      <td>2018-06-22</td>\n",
       "      <td>t</td>\n",
       "      <td>$130.00</td>\n",
       "    </tr>\n",
       "  </tbody>\n",
       "</table>\n",
       "</div>"
      ],
      "text/plain": [
       "          listing_id        date available    price\n",
       "6957237      9343186  2018-04-04         f      NaN\n",
       "19051376     7119308  2018-07-22         f      NaN\n",
       "19756890     9772330  2018-07-12         f      NaN\n",
       "1662189     22560208  2018-03-27         f      NaN\n",
       "1488365      1753467  2018-06-22         t  $130.00"
      ]
     },
     "execution_count": 6,
     "metadata": {},
     "output_type": "execute_result"
    }
   ],
   "source": [
    "calendar.head()"
   ]
  },
  {
   "cell_type": "markdown",
   "metadata": {},
   "source": [
    "Une autre propriété importante des DataFrame de Pandas est .columns. En effet, celle-ci a deux utilités :\n",
    "\n",
    "- afficher le nom des colonnes de votre DataFrame,\n",
    "- créer une structure permettant d’avoir une liste des colonnes que nous pourrons utiliser pour des automatisations."
   ]
  },
  {
   "cell_type": "code",
   "execution_count": 7,
   "metadata": {},
   "outputs": [
    {
     "data": {
      "text/plain": [
       "Index(['listing_id', 'date', 'available', 'price'], dtype='object')"
      ]
     },
     "execution_count": 7,
     "metadata": {},
     "output_type": "execute_result"
    }
   ],
   "source": [
    "calendar.columns"
   ]
  },
  {
   "cell_type": "code",
   "execution_count": 8,
   "metadata": {},
   "outputs": [
    {
     "name": "stdout",
     "output_type": "stream",
     "text": [
      "listing_id : int64\n",
      "date : object\n",
      "available : object\n",
      "price : object\n"
     ]
    }
   ],
   "source": [
    "# on peut faire une boucle sur les colonnes de notre DataFrame\n",
    "for col in calendar.columns:\n",
    "    print(col, calendar[col].dtype, sep=\" : \")"
   ]
  },
  {
   "cell_type": "markdown",
   "metadata": {},
   "source": [
    "### 4.3.2 Quelles transformations pour les colonnes de vos données ?"
   ]
  },
  {
   "cell_type": "markdown",
   "metadata": {},
   "source": [
    "Votre objectif en tant que data scientist est d’extraire le plus d’information possible de ces données. Pour cela, il va falloir les mettre en forme de manière intelligente. \n",
    "\n",
    "Nous allons étudier différentes transformations nécessaires pour travailler sur des données :\n",
    "\n",
    "- les changements de types,\n",
    "- les jointures,\n",
    "- la discrétisation,\n",
    "- le traitement de données temporelles,\n",
    "- les transformations numériques,\n",
    "- le traitement des colonnes avec des données qualitatives,\n",
    "- le traitement des données manquantes,\n",
    "- la construction de tableaux croisés."
   ]
  },
  {
   "cell_type": "markdown",
   "metadata": {},
   "source": [
    "### 4.3.3 Les changements de types\n",
    "\n",
    "Le typage des colonnes d’un DataFrame ou d’un array est très important pour tous les traitements en data science.\n",
    "\n",
    "Nous nous concentrons ici sur les structures en DataFrame de Pandas. Pandas va automatiquement inférer les types si vous ne lui avez pas spécifié de type à l’importation\n",
    "des données ou à la création du DataFrame.\n",
    "\n",
    "Par défaut, Pandas va utiliser trois types principaux :\n",
    "- les entiers int en 32 ou en 64 bits,\n",
    "- les nombres décimaux float en 32 ou 64 bits,\n",
    "- les objets object qui rassemblent la plupart des autres types.\n",
    "\n",
    "On trouvera aussi des booléens et tous les types définis par NumPy."
   ]
  },
  {
   "cell_type": "markdown",
   "metadata": {},
   "source": [
    "La base de données listing de AirBnB est obtenue par scrapping web et certaines informations ne peuvent pas être traitées directement. En effet, lorsqu’on affiche les\n",
    "informations sur les colonnes, on voit que la colonne price est typée en Object alors qu’il s’agit de valeurs décimales."
   ]
  },
  {
   "cell_type": "code",
   "execution_count": 9,
   "metadata": {},
   "outputs": [
    {
     "data": {
      "text/plain": [
       "52948    $145.00\n",
       "11523     $81.00\n",
       "57517     $95.00\n",
       "55551     $35.00\n",
       "2440      $50.00\n",
       "Name: price, dtype: object"
      ]
     },
     "execution_count": 9,
     "metadata": {},
     "output_type": "execute_result"
    }
   ],
   "source": [
    "listing[\"price\"].head()"
   ]
  },
  {
   "cell_type": "markdown",
   "metadata": {},
   "source": [
    "Pour nous débarrasser du $ en première position, nous avons trois possibilités :"
   ]
  },
  {
   "cell_type": "code",
   "execution_count": 10,
   "metadata": {},
   "outputs": [
    {
     "name": "stdout",
     "output_type": "stream",
     "text": [
      "1.31 ms ± 90.6 µs per loop (mean ± std. dev. of 7 runs, 1000 loops each)\n"
     ]
    }
   ],
   "source": [
    "# élimine le premier élément\n",
    "%timeit listing[\"price\"].str[1 :]"
   ]
  },
  {
   "cell_type": "code",
   "execution_count": 11,
   "metadata": {},
   "outputs": [
    {
     "name": "stdout",
     "output_type": "stream",
     "text": [
      "2.1 ms ± 217 µs per loop (mean ± std. dev. of 7 runs, 100 loops each)\n"
     ]
    }
   ],
   "source": [
    "# remplace tous les $\n",
    "%timeit listing[\"price\"].str.replace(\"$\",\"\")"
   ]
  },
  {
   "cell_type": "code",
   "execution_count": 12,
   "metadata": {},
   "outputs": [
    {
     "name": "stdout",
     "output_type": "stream",
     "text": [
      "1.52 ms ± 33.6 µs per loop (mean ± std. dev. of 7 runs, 1000 loops each)\n"
     ]
    }
   ],
   "source": [
    "#élimine le premier élément lorsque c’est un $\n",
    "%timeit listing[\"price\"].str.strip(\"$\")"
   ]
  },
  {
   "cell_type": "markdown",
   "metadata": {},
   "source": [
    "On voit que ces trois approches sont assez différentes, la première est la plus\n",
    "efficace en termes de temps de calcul mais elle est aussi la plus dangereuse en cas\n",
    "d’erreur dans nos données."
   ]
  },
  {
   "cell_type": "markdown",
   "metadata": {},
   "source": [
    "Il reste deux étapes à réaliser : éliminer les virgules et transformer la variable en\n",
    "variable numérique :"
   ]
  },
  {
   "cell_type": "code",
   "execution_count": 13,
   "metadata": {},
   "outputs": [],
   "source": [
    "listing[\"price\"]= pd.to_numeric(listing[\"price\"].str.strip(\"$\").str.replace(\",\",\"\"))"
   ]
  },
  {
   "cell_type": "code",
   "execution_count": 14,
   "metadata": {},
   "outputs": [
    {
     "name": "stdout",
     "output_type": "stream",
     "text": [
      "float64\n"
     ]
    }
   ],
   "source": [
    "print(listing[\"price\"].dtype)"
   ]
  },
  {
   "cell_type": "markdown",
   "metadata": {},
   "source": [
    "Nous avons donc réussi à modifier notre colonne.\n",
    "\n",
    "Si nous désirons automatiser ce traitement, il suffit de créer une boucle sur les colonnes. On utilise le code suivant :"
   ]
  },
  {
   "cell_type": "code",
   "execution_count": 15,
   "metadata": {},
   "outputs": [],
   "source": [
    "for col in listing.columns:\n",
    "    if listing[col].dtype==object :\n",
    "        listing[col]= pd.to_numeric(listing[col].str.strip(\"$\")\\\n",
    "                                                .str.replace(\",\", \"\"), errors=\"ignore\")"
   ]
  },
  {
   "cell_type": "markdown",
   "metadata": {},
   "source": [
    "On a utilisé le paramètre errors de la fonction to_numeric. Celui-ci sert à gérer les erreurs. Par exemple, lorsque Pandas n’arrive pas à faire la transformation en numérique, il renvoie une erreur par défaut. Dans notre cas, il est évident que certaines variables sont des objets qui ne pourront pas être transformés en variables numérique. Pour ces cas, on utilise errors = \"ignore\", qui permet de ne pas faire la transformation tout en continuant l’exécution."
   ]
  },
  {
   "cell_type": "markdown",
   "metadata": {},
   "source": [
    "Si on étudie la colonne \"instant_bookable\", on veut pouvoir prendre en compte cette colonne pour la passer en booléen :"
   ]
  },
  {
   "cell_type": "code",
   "execution_count": 16,
   "metadata": {},
   "outputs": [],
   "source": [
    "# approche avec NumPy\n",
    "listing[\"instant_bookable_bool\"]=np.where(listing[\"instant_bookable\"]==\"f\", False, True)"
   ]
  },
  {
   "cell_type": "code",
   "execution_count": 17,
   "metadata": {},
   "outputs": [],
   "source": [
    "# approche avec un dictionnaire et Pandas\n",
    "listing[\"instant_bookable_bool2\"]= listing[\"instant_bookable\"].replace({\"f\" : False,\"t\" : True})"
   ]
  },
  {
   "cell_type": "markdown",
   "metadata": {},
   "source": [
    "On voit dans ce code que lorsqu’on veut remplacer deux valeurs, l’utilisation de la\n",
    "fonction np.where de NumPy peut être une solution, mais il faut être attentif aux\n",
    "risques liés à des mauvais codages de la variable.\n",
    "\n",
    "Il existe de nombreux cas de nettoyages de données basées sur des erreurs de\n",
    "typage. Ce que nous allons voir dans tout ce chapitre pourra vous aider à répondre à\n",
    "vos problématiques spécifiques."
   ]
  },
  {
   "cell_type": "markdown",
   "metadata": {},
   "source": [
    "### 4.3.4 Les jointures et concaténations\n",
    "#### Les jointures entre DataFrame\n",
    "\n",
    "Les jointures entre DataFrame sont un outil puissant de Pandas qui ressemble\n",
    "aux outils disponibles en SQL. Une jointure consiste à construire, à partir de deux\n",
    "DataFrame, un DataFrame en utilisant ce qu’on appelle une clé de jointure qui sera\n",
    "un identifiant des lignes présent dans les deux DataFrame initiaux."
   ]
  },
  {
   "cell_type": "markdown",
   "metadata": {},
   "source": [
    "La fonction de jointure de Pandas est la fonction pd.merge(). Elle prend comme\n",
    "paramètres deux objets DataFrame puis des paramètres optionnels :\n",
    "- on : choix de la ou des clés de jointure.\n",
    "- how : choix de la méthode de jointure. Il faut choisir entre left, right, inner et outer.\n",
    "- left_on (et right_on) : si les clés de jointure n’ont pas le même nom d’une table à une autre.\n",
    "- index_left (et index_right) : on donnera ici un booléen si l’index du DataFrame est utilisé comme clé.\n",
    "\n",
    "Sur les données AirBnB, nous utiliserons une jointure interne afin d’associer les\n",
    "calendriers des  logements :"
   ]
  },
  {
   "cell_type": "code",
   "execution_count": 18,
   "metadata": {},
   "outputs": [
    {
     "data": {
      "text/plain": [
       "(824, 102)"
      ]
     },
     "execution_count": 18,
     "metadata": {},
     "output_type": "execute_result"
    }
   ],
   "source": [
    "global_airbnb=pd.merge(listing, calendar, left_on=\"id\", right_on=\"listing_id\", how=\"inner\")\n",
    "global_airbnb.shape"
   ]
  },
  {
   "cell_type": "markdown",
   "metadata": {},
   "source": [
    "On voit ici qu’on a rassemblé les colonnes des deux DataFrame. Dans ce cas, le\n",
    "DataFrame calendar est beaucoup plus grand que listing, le DataFrame obtenu ne\n",
    "rassemble que les clés communes aux deux DataFrame mais lorsqu’il y a plusieurs\n",
    "répétitions d’une clé, la combinaison est répétée."
   ]
  },
  {
   "cell_type": "markdown",
   "metadata": {},
   "source": [
    "### 4.3.4 La gestion des duplications de lignes\n",
    "\n",
    "Il arrive souvent dans des données que des lignes soient dupliquées par erreur ou que vous désiriez vérifier la duplication de certaines lignes.\n",
    "\n",
    "Pandas possède deux outils pour traiter ce type de données : duplicated() et drop_duplicated().\n",
    "\n",
    "Si nous voulons vérifier si des lignes sont dupliquées dans le DataFrame sur les employés de la ville de Boston, il nous suffit de faire :"
   ]
  },
  {
   "cell_type": "code",
   "execution_count": 19,
   "metadata": {},
   "outputs": [
    {
     "data": {
      "text/plain": [
       "0"
      ]
     },
     "execution_count": 19,
     "metadata": {},
     "output_type": "execute_result"
    }
   ],
   "source": [
    "boston.duplicated().sum()"
   ]
  },
  {
   "cell_type": "markdown",
   "metadata": {},
   "source": [
    "Il s’avère qu’il n’y a aucune duplication. Nous aurions pu nous concentrer uniquement\n",
    "sur le nom, le département et le titre des employés :"
   ]
  },
  {
   "cell_type": "code",
   "execution_count": 20,
   "metadata": {},
   "outputs": [
    {
     "data": {
      "text/plain": [
       "4"
      ]
     },
     "execution_count": 20,
     "metadata": {},
     "output_type": "execute_result"
    }
   ],
   "source": [
    "boston.duplicated(['NAME','DEPARTMENT NAME','TITLE']).sum()"
   ]
  },
  {
   "cell_type": "code",
   "execution_count": 21,
   "metadata": {},
   "outputs": [
    {
     "data": {
      "text/html": [
       "<div>\n",
       "<style scoped>\n",
       "    .dataframe tbody tr th:only-of-type {\n",
       "        vertical-align: middle;\n",
       "    }\n",
       "\n",
       "    .dataframe tbody tr th {\n",
       "        vertical-align: top;\n",
       "    }\n",
       "\n",
       "    .dataframe thead th {\n",
       "        text-align: right;\n",
       "    }\n",
       "</style>\n",
       "<table border=\"1\" class=\"dataframe\">\n",
       "  <thead>\n",
       "    <tr style=\"text-align: right;\">\n",
       "      <th></th>\n",
       "      <th>NAME</th>\n",
       "      <th>DEPARTMENT NAME</th>\n",
       "      <th>TITLE</th>\n",
       "      <th>REGULAR</th>\n",
       "      <th>RETRO</th>\n",
       "      <th>OTHER</th>\n",
       "      <th>OVERTIME</th>\n",
       "      <th>INJURED</th>\n",
       "      <th>DETAIL</th>\n",
       "      <th>QUINN/EDUCATION INCENTIVE</th>\n",
       "      <th>TOTAL EARNINGS</th>\n",
       "      <th>POSTAL</th>\n",
       "    </tr>\n",
       "  </thead>\n",
       "  <tbody>\n",
       "    <tr>\n",
       "      <th>608</th>\n",
       "      <td>Doherty,Brian J</td>\n",
       "      <td>Boston Police Department</td>\n",
       "      <td>Police Officer</td>\n",
       "      <td>$100,210.65</td>\n",
       "      <td>$1,491.90</td>\n",
       "      <td>$4,400.03</td>\n",
       "      <td>$14,576.76</td>\n",
       "      <td>NaN</td>\n",
       "      <td>$52,624.00</td>\n",
       "      <td>NaN</td>\n",
       "      <td>$173,303.34</td>\n",
       "      <td>2122</td>\n",
       "    </tr>\n",
       "    <tr>\n",
       "      <th>6097</th>\n",
       "      <td>McCarthy,Kevin M</td>\n",
       "      <td>Boston Fire Department</td>\n",
       "      <td>Fire Lieutenant</td>\n",
       "      <td>$133,038.18</td>\n",
       "      <td>NaN</td>\n",
       "      <td>$3,474.55</td>\n",
       "      <td>$14,578.21</td>\n",
       "      <td>NaN</td>\n",
       "      <td>$4,381.50</td>\n",
       "      <td>NaN</td>\n",
       "      <td>$155,472.44</td>\n",
       "      <td>2184</td>\n",
       "    </tr>\n",
       "    <tr>\n",
       "      <th>6504</th>\n",
       "      <td>McCarthy,Kevin M</td>\n",
       "      <td>Boston Fire Department</td>\n",
       "      <td>Fire Lieutenant</td>\n",
       "      <td>$57,947.80</td>\n",
       "      <td>NaN</td>\n",
       "      <td>$1,835.94</td>\n",
       "      <td>$22,557.60</td>\n",
       "      <td>$67,211.54</td>\n",
       "      <td>NaN</td>\n",
       "      <td>NaN</td>\n",
       "      <td>$149,552.88</td>\n",
       "      <td>2043</td>\n",
       "    </tr>\n",
       "    <tr>\n",
       "      <th>7871</th>\n",
       "      <td>Flynn,Robert</td>\n",
       "      <td>Boston Police Department</td>\n",
       "      <td>Police Officer</td>\n",
       "      <td>$91,822.47</td>\n",
       "      <td>$7,289.39</td>\n",
       "      <td>$4,853.52</td>\n",
       "      <td>$67,548.83</td>\n",
       "      <td>NaN</td>\n",
       "      <td>$828.00</td>\n",
       "      <td>NaN</td>\n",
       "      <td>$172,342.21</td>\n",
       "      <td>2124</td>\n",
       "    </tr>\n",
       "    <tr>\n",
       "      <th>11757</th>\n",
       "      <td>Kelly,Michael Joseph</td>\n",
       "      <td>Boston Fire Department</td>\n",
       "      <td>Fire Fighter</td>\n",
       "      <td>$105,118.72</td>\n",
       "      <td>NaN</td>\n",
       "      <td>$550.00</td>\n",
       "      <td>$9,273.38</td>\n",
       "      <td>NaN</td>\n",
       "      <td>NaN</td>\n",
       "      <td>NaN</td>\n",
       "      <td>$114,942.10</td>\n",
       "      <td>2122</td>\n",
       "    </tr>\n",
       "    <tr>\n",
       "      <th>16249</th>\n",
       "      <td>Kelly,Michael Joseph</td>\n",
       "      <td>Boston Fire Department</td>\n",
       "      <td>Fire Fighter</td>\n",
       "      <td>$83,457.62</td>\n",
       "      <td>NaN</td>\n",
       "      <td>$550.00</td>\n",
       "      <td>$13,921.51</td>\n",
       "      <td>$8,705.64</td>\n",
       "      <td>$19,408.00</td>\n",
       "      <td>NaN</td>\n",
       "      <td>$126,042.77</td>\n",
       "      <td>2132</td>\n",
       "    </tr>\n",
       "    <tr>\n",
       "      <th>16618</th>\n",
       "      <td>Flynn,Robert</td>\n",
       "      <td>Boston Police Department</td>\n",
       "      <td>Police Officer</td>\n",
       "      <td>$52,689.10</td>\n",
       "      <td>$1,411.01</td>\n",
       "      <td>$800.00</td>\n",
       "      <td>$19,674.52</td>\n",
       "      <td>$32,146.74</td>\n",
       "      <td>$28,198.00</td>\n",
       "      <td>NaN</td>\n",
       "      <td>$134,919.37</td>\n",
       "      <td>2122</td>\n",
       "    </tr>\n",
       "    <tr>\n",
       "      <th>17639</th>\n",
       "      <td>Doherty,Brian J</td>\n",
       "      <td>Boston Police Department</td>\n",
       "      <td>Police Officer</td>\n",
       "      <td>$76,901.21</td>\n",
       "      <td>$1,332.73</td>\n",
       "      <td>$800.00</td>\n",
       "      <td>$23,830.39</td>\n",
       "      <td>NaN</td>\n",
       "      <td>$36,616.00</td>\n",
       "      <td>NaN</td>\n",
       "      <td>$139,480.33</td>\n",
       "      <td>2124</td>\n",
       "    </tr>\n",
       "  </tbody>\n",
       "</table>\n",
       "</div>"
      ],
      "text/plain": [
       "                       NAME           DEPARTMENT NAME            TITLE  \\\n",
       "608         Doherty,Brian J  Boston Police Department   Police Officer   \n",
       "6097       McCarthy,Kevin M    Boston Fire Department  Fire Lieutenant   \n",
       "6504       McCarthy,Kevin M    Boston Fire Department  Fire Lieutenant   \n",
       "7871           Flynn,Robert  Boston Police Department   Police Officer   \n",
       "11757  Kelly,Michael Joseph    Boston Fire Department     Fire Fighter   \n",
       "16249  Kelly,Michael Joseph    Boston Fire Department     Fire Fighter   \n",
       "16618          Flynn,Robert  Boston Police Department   Police Officer   \n",
       "17639       Doherty,Brian J  Boston Police Department   Police Officer   \n",
       "\n",
       "            REGULAR       RETRO       OTHER     OVERTIME      INJURED  \\\n",
       "608    $100,210.65   $1,491.90   $4,400.03   $14,576.76           NaN   \n",
       "6097   $133,038.18          NaN  $3,474.55   $14,578.21           NaN   \n",
       "6504    $57,947.80          NaN  $1,835.94   $22,557.60   $67,211.54    \n",
       "7871    $91,822.47   $7,289.39   $4,853.52   $67,548.83           NaN   \n",
       "11757  $105,118.72          NaN    $550.00    $9,273.38           NaN   \n",
       "16249   $83,457.62          NaN    $550.00   $13,921.51    $8,705.64    \n",
       "16618   $52,689.10   $1,411.01     $800.00   $19,674.52   $32,146.74    \n",
       "17639   $76,901.21   $1,332.73     $800.00   $23,830.39           NaN   \n",
       "\n",
       "            DETAIL QUINN/EDUCATION INCENTIVE TOTAL EARNINGS POSTAL  \n",
       "608    $52,624.00                        NaN   $173,303.34    2122  \n",
       "6097    $4,381.50                        NaN   $155,472.44    2184  \n",
       "6504           NaN                       NaN   $149,552.88    2043  \n",
       "7871      $828.00                        NaN   $172,342.21    2124  \n",
       "11757          NaN                       NaN   $114,942.10    2122  \n",
       "16249  $19,408.00                        NaN   $126,042.77    2132  \n",
       "16618  $28,198.00                        NaN   $134,919.37    2122  \n",
       "17639  $36,616.00                        NaN   $139,480.33    2124  "
      ]
     },
     "execution_count": 21,
     "metadata": {},
     "output_type": "execute_result"
    }
   ],
   "source": [
    "# on a donc quatre éléments dupliqués, on peut maintenant les visualiser :\n",
    "boston[boston.duplicated(['NAME','DEPARTMENT NAME','TITLE'], keep=False)]"
   ]
  },
  {
   "cell_type": "markdown",
   "metadata": {},
   "source": [
    "Nous pouvons maintenant nous débarrasser des duplications, on utilisera pour cela :"
   ]
  },
  {
   "cell_type": "code",
   "execution_count": 22,
   "metadata": {},
   "outputs": [],
   "source": [
    "boston_no_dup=boston.drop_duplicates(['NAME','DEPARTMENT NAME','TITLE'],keep=\"first\")"
   ]
  },
  {
   "cell_type": "markdown",
   "metadata": {},
   "source": [
    "\n",
    "Dans ce cas, on garde le premier. On peut demander à garder le dernier (last) et\n",
    "on utilisera des tris afin d’ordonner les résultats pour se débarrasser des duplications\n",
    "non pertinentes."
   ]
  },
  {
   "cell_type": "markdown",
   "metadata": {},
   "source": [
    "### 4.3.5 La discrétisation\n",
    "La discrétisation permet de transformer une variable quantitative (l’âge des\n",
    "individus par exemple) en une variable qualitative (une classe d’âge pour chaque individu). Pour cela, nous utilisons deux fonctions de Pandas : pd.cut() et\n",
    "pd.qcut()."
   ]
  },
  {
   "cell_type": "markdown",
   "metadata": {},
   "source": [
    "#### Intervalles constants\n",
    "Si nous désirons créer une variable de classe basée sur des intervalles de taille\n",
    "constante allant du minimum au maximum."
   ]
  },
  {
   "cell_type": "code",
   "execution_count": 23,
   "metadata": {},
   "outputs": [
    {
     "data": {
      "text/plain": [
       "52948    (-3.0, 600.0]\n",
       "11523    (-3.0, 600.0]\n",
       "57517    (-3.0, 600.0]\n",
       "55551    (-3.0, 600.0]\n",
       "2440     (-3.0, 600.0]\n",
       "Name: price_disc1, dtype: category\n",
       "Categories (5, interval[float64]): [(-3.0, 600.0] < (600.0, 1200.0] < (1200.0, 1800.0] < (1800.0, 2400.0] < (2400.0, 3000.0]]"
      ]
     },
     "execution_count": 23,
     "metadata": {},
     "output_type": "execute_result"
    }
   ],
   "source": [
    "listing[\"price_disc1\"]= pd.cut(listing[\"price\"], bins=5)\n",
    "listing[\"price_disc1\"].head()"
   ]
  },
  {
   "cell_type": "markdown",
   "metadata": {},
   "source": [
    "On voit ici que la nouvelle variable a comme valeurs les intervalles. \n",
    "\n",
    "Si vous voulez vérifier la répartition par intervalle, il suffit d’utiliser la méthode *.value_counts()* :"
   ]
  },
  {
   "cell_type": "code",
   "execution_count": 24,
   "metadata": {},
   "outputs": [
    {
     "data": {
      "text/plain": [
       "(-3.0, 600.0]       4973\n",
       "(600.0, 1200.0]       23\n",
       "(1200.0, 1800.0]       2\n",
       "(2400.0, 3000.0]       1\n",
       "(1800.0, 2400.0]       1\n",
       "Name: price_disc1, dtype: int64"
      ]
     },
     "execution_count": 24,
     "metadata": {},
     "output_type": "execute_result"
    }
   ],
   "source": [
    "listing[\"price_disc1\"].value_counts()"
   ]
  },
  {
   "cell_type": "markdown",
   "metadata": {},
   "source": [
    "Par ailleurs, si vous désirez donner des noms aux intervalles, vous pouvez le faire en utilisant le paramètre *labels=* de la fonction *cut()* :"
   ]
  },
  {
   "cell_type": "code",
   "execution_count": 25,
   "metadata": {},
   "outputs": [],
   "source": [
    "listing[\"price_disc1\"]=pd.cut(listing[\"price\"], bins=5, labels=range(5))"
   ]
  },
  {
   "cell_type": "markdown",
   "metadata": {},
   "source": [
    "#### Intervalles définis par l’utilisateur\n",
    "Si vous désirez créer des intervalles sur mesure, il vous suffit de donner les bornes\n",
    "de ces intervalles. On utilise :"
   ]
  },
  {
   "cell_type": "code",
   "execution_count": 26,
   "metadata": {},
   "outputs": [
    {
     "data": {
      "text/plain": [
       "(50.0, 100.0]      2552\n",
       "(100.0, 500.0]     1270\n",
       "(-0.001, 50.0]     1139\n",
       "(500.0, 3000.0]      39\n",
       "Name: price_disc2, dtype: int64"
      ]
     },
     "execution_count": 26,
     "metadata": {},
     "output_type": "execute_result"
    }
   ],
   "source": [
    "listing[\"price_disc2\"]=pd.cut(listing[\"price\"], bins=[listing[\"price\"].min(), 50,100,500,\n",
    "                                                      listing[\"price\"].max()],include_lowest = True)\n",
    "listing[\"price_disc2\"].value_counts()"
   ]
  },
  {
   "cell_type": "markdown",
   "metadata": {},
   "source": [
    "On remplace donc le nombre d’intervalles par une liste de valeurs (ici on prend le minimum et le maximum des données). \n",
    "\n",
    "Afin d’inclure le minimum, on ajoute *include_lowest=True*."
   ]
  },
  {
   "cell_type": "markdown",
   "metadata": {},
   "source": [
    "#### Intervalles de fréquence constante\n",
    "\n",
    "Il est souvent intéressant de construire des intervalles ayant un nombre d’individus constant d’une classe à une autre. \n",
    "\n",
    "Pour cela, on va utiliser une autre fonction de Pandas nommée *qcut()*. Elle prend le même type de paramètres que la\n",
    "fonction précédente mais elle va créer des classes de taille similaire (en nombre d’individus) :"
   ]
  },
  {
   "cell_type": "code",
   "execution_count": 27,
   "metadata": {},
   "outputs": [
    {
     "data": {
      "text/plain": [
       "(-0.001, 50.0]     1139\n",
       "(86.0, 120.0]      1048\n",
       "(65.0, 86.0]        998\n",
       "(120.0, 3000.0]     944\n",
       "(50.0, 65.0]        871\n",
       "Name: price_disc3, dtype: int64"
      ]
     },
     "execution_count": 27,
     "metadata": {},
     "output_type": "execute_result"
    }
   ],
   "source": [
    "listing[\"price_disc3\"]=pd.qcut(listing[\"price\"],q=5)\n",
    "listing[\"price_disc3\"].value_counts()"
   ]
  },
  {
   "cell_type": "markdown",
   "metadata": {},
   "source": [
    "Pandas a fait de son mieux pour bien distribuer les données dans les intervalles.\n",
    "Comme il y a beaucoup de prix égaux, il n’a pas pu obtenir des intervalles avec des\n",
    "fréquences parfaitement égales."
   ]
  },
  {
   "cell_type": "markdown",
   "metadata": {},
   "source": [
    "### 4.3.6 Les tris\n",
    "Les tris sont des outils importants en data science. Il vous arrive très fréquemment de vouloir trier des données. Chaque package possède des outils de tris, nous allons\n",
    "en étudier deux : celui de NumPy et celui de Pandas."
   ]
  },
  {
   "cell_type": "markdown",
   "metadata": {},
   "source": [
    "#### Le tri de NumPy\n",
    "Si nous restons sur un array de NumPy dans son sens le plus classique, celui-ci contient une méthode .sort() qui s’applique très bien sur un array à une seule dimension, on pourra avoir :"
   ]
  },
  {
   "cell_type": "code",
   "execution_count": 28,
   "metadata": {},
   "outputs": [],
   "source": [
    "array1 = np.random.randn(5000)\n",
    "array1.sort()"
   ]
  },
  {
   "cell_type": "markdown",
   "metadata": {},
   "source": [
    "Cette méthode modifie l’array1 et trie de manière croissante. \n",
    "\n",
    "Si on désire faire un tri décroissant, on pourra utiliser :"
   ]
  },
  {
   "cell_type": "code",
   "execution_count": 29,
   "metadata": {},
   "outputs": [],
   "source": [
    "array1[::-1].sort()"
   ]
  },
  {
   "cell_type": "markdown",
   "metadata": {},
   "source": [
    "Comme vous le voyez, cette méthode n’est pas très efficace pour faire des tris\n",
    "complexes. On utilisera une autre méthode nommée .argsort() :"
   ]
  },
  {
   "cell_type": "code",
   "execution_count": 30,
   "metadata": {},
   "outputs": [
    {
     "data": {
      "text/plain": [
       "array([[8.34698399e-01, 2.01491166e-04, 4.92385022e-02, ...,\n",
       "        8.51626405e-01, 9.31749153e-01, 5.89103847e-01],\n",
       "       [5.26527730e-01, 1.50739066e-03, 8.95543944e-01, ...,\n",
       "        7.00492918e-01, 1.93154500e-01, 6.74277446e-01],\n",
       "       [5.91537741e-01, 1.58205575e-03, 3.64488320e-01, ...,\n",
       "        8.54969155e-01, 6.59873926e-01, 1.04240122e-01],\n",
       "       ...,\n",
       "       [9.03059212e-01, 9.99434598e-01, 7.91544692e-01, ...,\n",
       "        5.56125606e-02, 5.32528451e-01, 5.46775581e-01],\n",
       "       [3.97178669e-02, 9.99539900e-01, 5.54834190e-03, ...,\n",
       "        4.59776984e-01, 5.86097006e-01, 6.40464405e-01],\n",
       "       [5.79085226e-01, 9.99864663e-01, 5.72247379e-01, ...,\n",
       "        3.02166530e-01, 3.72423530e-01, 4.74716768e-01]])"
      ]
     },
     "execution_count": 30,
     "metadata": {},
     "output_type": "execute_result"
    }
   ],
   "source": [
    "table = np.random.rand(5000, 10)\n",
    "table[table[:,1].argsort()]"
   ]
  },
  {
   "cell_type": "markdown",
   "metadata": {},
   "source": [
    "On trie donc sur la seconde colonne de notre array. On peut alors retourner le\n",
    "résultat de ce tri.\n",
    "Le tri basé sur .argsort() est extrêmement efficace mais s’applique avant tout\n",
    "à un array."
   ]
  },
  {
   "cell_type": "markdown",
   "metadata": {},
   "source": [
    "#### Le tri de Pandas\n",
    "Pandas possède une fonction de tri sur les DataFrames extrêmement efficace qui se rapproche beaucoup d’une approche SQL des tris. Elle a de nombreux paramètres et permet de trier sur plusieurs clés dans des sens différents.\n",
    "\n",
    "Si nous prenons nos données sur les logements AirBnB, nous désirons trier les données par ordre croissant de nombre de chambres, puis par niveau de prix décroissant.\n",
    "\n",
    "Pour cela, une seule ligne de code est nécessaire :"
   ]
  },
  {
   "cell_type": "code",
   "execution_count": 31,
   "metadata": {},
   "outputs": [
    {
     "data": {
      "text/html": [
       "<div>\n",
       "<style scoped>\n",
       "    .dataframe tbody tr th:only-of-type {\n",
       "        vertical-align: middle;\n",
       "    }\n",
       "\n",
       "    .dataframe tbody tr th {\n",
       "        vertical-align: top;\n",
       "    }\n",
       "\n",
       "    .dataframe thead th {\n",
       "        text-align: right;\n",
       "    }\n",
       "</style>\n",
       "<table border=\"1\" class=\"dataframe\">\n",
       "  <thead>\n",
       "    <tr style=\"text-align: right;\">\n",
       "      <th></th>\n",
       "      <th>id</th>\n",
       "      <th>listing_url</th>\n",
       "      <th>scrape_id</th>\n",
       "      <th>last_scraped</th>\n",
       "      <th>name</th>\n",
       "      <th>summary</th>\n",
       "      <th>space</th>\n",
       "      <th>description</th>\n",
       "      <th>experiences_offered</th>\n",
       "      <th>neighborhood_overview</th>\n",
       "      <th>...</th>\n",
       "      <th>cancellation_policy</th>\n",
       "      <th>require_guest_profile_picture</th>\n",
       "      <th>require_guest_phone_verification</th>\n",
       "      <th>calculated_host_listings_count</th>\n",
       "      <th>reviews_per_month</th>\n",
       "      <th>instant_bookable_bool</th>\n",
       "      <th>instant_bookable_bool2</th>\n",
       "      <th>price_disc1</th>\n",
       "      <th>price_disc2</th>\n",
       "      <th>price_disc3</th>\n",
       "    </tr>\n",
       "  </thead>\n",
       "  <tbody>\n",
       "    <tr>\n",
       "      <th>59897</th>\n",
       "      <td>23637606</td>\n",
       "      <td>https://www.airbnb.com/rooms/23637606</td>\n",
       "      <td>20180306174610</td>\n",
       "      <td>2018-03-07</td>\n",
       "      <td>Heart of 6th arr Beautiful luxury property 18th</td>\n",
       "      <td>This apartment in a 17th c property (2th floor...</td>\n",
       "      <td>NaN</td>\n",
       "      <td>This apartment in a 17th c property (2th floor...</td>\n",
       "      <td>none</td>\n",
       "      <td>NaN</td>\n",
       "      <td>...</td>\n",
       "      <td>flexible</td>\n",
       "      <td>f</td>\n",
       "      <td>f</td>\n",
       "      <td>1</td>\n",
       "      <td>NaN</td>\n",
       "      <td>True</td>\n",
       "      <td>True</td>\n",
       "      <td>0</td>\n",
       "      <td>(100.0, 500.0]</td>\n",
       "      <td>(120.0, 3000.0]</td>\n",
       "    </tr>\n",
       "    <tr>\n",
       "      <th>54173</th>\n",
       "      <td>21723586</td>\n",
       "      <td>https://www.airbnb.com/rooms/21723586</td>\n",
       "      <td>20180306174610</td>\n",
       "      <td>2018-03-08</td>\n",
       "      <td>Amazing apartment - Eiffel Tower View</td>\n",
       "      <td>In the hearth of the 16th district of Paris th...</td>\n",
       "      <td>This apartment of 70 sqm is on the 7th floor (...</td>\n",
       "      <td>In the hearth of the 16th district of Paris th...</td>\n",
       "      <td>none</td>\n",
       "      <td>The apartment is located in a luxury area of t...</td>\n",
       "      <td>...</td>\n",
       "      <td>strict</td>\n",
       "      <td>f</td>\n",
       "      <td>f</td>\n",
       "      <td>13</td>\n",
       "      <td>1.25</td>\n",
       "      <td>True</td>\n",
       "      <td>True</td>\n",
       "      <td>0</td>\n",
       "      <td>(100.0, 500.0]</td>\n",
       "      <td>(120.0, 3000.0]</td>\n",
       "    </tr>\n",
       "    <tr>\n",
       "      <th>54417</th>\n",
       "      <td>21797265</td>\n",
       "      <td>https://www.airbnb.com/rooms/21797265</td>\n",
       "      <td>20180306174610</td>\n",
       "      <td>2018-03-07</td>\n",
       "      <td>Awesome room</td>\n",
       "      <td>Ndidnjxidnxn</td>\n",
       "      <td>NaN</td>\n",
       "      <td>Ndidnjxidnxn</td>\n",
       "      <td>none</td>\n",
       "      <td>NaN</td>\n",
       "      <td>...</td>\n",
       "      <td>flexible</td>\n",
       "      <td>f</td>\n",
       "      <td>f</td>\n",
       "      <td>1</td>\n",
       "      <td>NaN</td>\n",
       "      <td>False</td>\n",
       "      <td>False</td>\n",
       "      <td>0</td>\n",
       "      <td>(100.0, 500.0]</td>\n",
       "      <td>(120.0, 3000.0]</td>\n",
       "    </tr>\n",
       "    <tr>\n",
       "      <th>30383</th>\n",
       "      <td>13027771</td>\n",
       "      <td>https://www.airbnb.com/rooms/13027771</td>\n",
       "      <td>20180306174610</td>\n",
       "      <td>2018-03-09</td>\n",
       "      <td>Studio closed to Champs Elysées</td>\n",
       "      <td>Charming 1-room flat of 28 sqm including a liv...</td>\n",
       "      <td>NaN</td>\n",
       "      <td>Charming 1-room flat of 28 sqm including a liv...</td>\n",
       "      <td>none</td>\n",
       "      <td>NaN</td>\n",
       "      <td>...</td>\n",
       "      <td>flexible</td>\n",
       "      <td>f</td>\n",
       "      <td>f</td>\n",
       "      <td>1</td>\n",
       "      <td>NaN</td>\n",
       "      <td>False</td>\n",
       "      <td>False</td>\n",
       "      <td>0</td>\n",
       "      <td>(100.0, 500.0]</td>\n",
       "      <td>(120.0, 3000.0]</td>\n",
       "    </tr>\n",
       "    <tr>\n",
       "      <th>56155</th>\n",
       "      <td>22314730</td>\n",
       "      <td>https://www.airbnb.com/rooms/22314730</td>\n",
       "      <td>20180306174610</td>\n",
       "      <td>2018-03-07</td>\n",
       "      <td>Wonderful studio 22 m² Chatelet Paris</td>\n",
       "      <td>Au coeur du centre de Paris place du Chatelet ...</td>\n",
       "      <td>NaN</td>\n",
       "      <td>Au coeur du centre de Paris place du Chatelet ...</td>\n",
       "      <td>none</td>\n",
       "      <td>NaN</td>\n",
       "      <td>...</td>\n",
       "      <td>flexible</td>\n",
       "      <td>f</td>\n",
       "      <td>f</td>\n",
       "      <td>15</td>\n",
       "      <td>NaN</td>\n",
       "      <td>True</td>\n",
       "      <td>True</td>\n",
       "      <td>0</td>\n",
       "      <td>(100.0, 500.0]</td>\n",
       "      <td>(120.0, 3000.0]</td>\n",
       "    </tr>\n",
       "  </tbody>\n",
       "</table>\n",
       "<p>5 rows × 101 columns</p>\n",
       "</div>"
      ],
      "text/plain": [
       "             id                            listing_url       scrape_id  \\\n",
       "59897  23637606  https://www.airbnb.com/rooms/23637606  20180306174610   \n",
       "54173  21723586  https://www.airbnb.com/rooms/21723586  20180306174610   \n",
       "54417  21797265  https://www.airbnb.com/rooms/21797265  20180306174610   \n",
       "30383  13027771  https://www.airbnb.com/rooms/13027771  20180306174610   \n",
       "56155  22314730  https://www.airbnb.com/rooms/22314730  20180306174610   \n",
       "\n",
       "      last_scraped                                             name  \\\n",
       "59897   2018-03-07  Heart of 6th arr Beautiful luxury property 18th   \n",
       "54173   2018-03-08            Amazing apartment - Eiffel Tower View   \n",
       "54417   2018-03-07                                     Awesome room   \n",
       "30383   2018-03-09                  Studio closed to Champs Elysées   \n",
       "56155   2018-03-07            Wonderful studio 22 m² Chatelet Paris   \n",
       "\n",
       "                                                 summary  \\\n",
       "59897  This apartment in a 17th c property (2th floor...   \n",
       "54173  In the hearth of the 16th district of Paris th...   \n",
       "54417                                       Ndidnjxidnxn   \n",
       "30383  Charming 1-room flat of 28 sqm including a liv...   \n",
       "56155  Au coeur du centre de Paris place du Chatelet ...   \n",
       "\n",
       "                                                   space  \\\n",
       "59897                                                NaN   \n",
       "54173  This apartment of 70 sqm is on the 7th floor (...   \n",
       "54417                                                NaN   \n",
       "30383                                                NaN   \n",
       "56155                                                NaN   \n",
       "\n",
       "                                             description experiences_offered  \\\n",
       "59897  This apartment in a 17th c property (2th floor...                none   \n",
       "54173  In the hearth of the 16th district of Paris th...                none   \n",
       "54417                                       Ndidnjxidnxn                none   \n",
       "30383  Charming 1-room flat of 28 sqm including a liv...                none   \n",
       "56155  Au coeur du centre de Paris place du Chatelet ...                none   \n",
       "\n",
       "                                   neighborhood_overview       ...         \\\n",
       "59897                                                NaN       ...          \n",
       "54173  The apartment is located in a luxury area of t...       ...          \n",
       "54417                                                NaN       ...          \n",
       "30383                                                NaN       ...          \n",
       "56155                                                NaN       ...          \n",
       "\n",
       "      cancellation_policy require_guest_profile_picture  \\\n",
       "59897            flexible                             f   \n",
       "54173              strict                             f   \n",
       "54417            flexible                             f   \n",
       "30383            flexible                             f   \n",
       "56155            flexible                             f   \n",
       "\n",
       "      require_guest_phone_verification calculated_host_listings_count  \\\n",
       "59897                                f                              1   \n",
       "54173                                f                             13   \n",
       "54417                                f                              1   \n",
       "30383                                f                              1   \n",
       "56155                                f                             15   \n",
       "\n",
       "      reviews_per_month  instant_bookable_bool  instant_bookable_bool2  \\\n",
       "59897               NaN                   True                    True   \n",
       "54173              1.25                   True                    True   \n",
       "54417               NaN                  False                   False   \n",
       "30383               NaN                  False                   False   \n",
       "56155               NaN                   True                    True   \n",
       "\n",
       "      price_disc1     price_disc2      price_disc3  \n",
       "59897           0  (100.0, 500.0]  (120.0, 3000.0]  \n",
       "54173           0  (100.0, 500.0]  (120.0, 3000.0]  \n",
       "54417           0  (100.0, 500.0]  (120.0, 3000.0]  \n",
       "30383           0  (100.0, 500.0]  (120.0, 3000.0]  \n",
       "56155           0  (100.0, 500.0]  (120.0, 3000.0]  \n",
       "\n",
       "[5 rows x 101 columns]"
      ]
     },
     "execution_count": 31,
     "metadata": {},
     "output_type": "execute_result"
    }
   ],
   "source": [
    "# on affiche uniquement les 5 premières lignes du résultat\n",
    "listing.sort_values([\"bedrooms\",\"price\"], ascending=[True, False]).head()"
   ]
  },
  {
   "cell_type": "markdown",
   "metadata": {},
   "source": [
    "On a donc bien un outil puissant basé sur des listes de clés. Comme dans le cas des jointures avec Pandas, lorsqu’on a plusieurs variables ou paramètres de tri, on les place dans une liste. \n",
    "\n",
    "Par défaut, le tri de Pandas trie par colonne avec le paramètre *axis=1*. Si vous désirez trier par ligne, vous pouvez changer ce paramètre.\n",
    "\n",
    "Pandas vous permet aussi d’effectuer des tris sur les index en utilisant .sort_index(). \n",
    "\n",
    "L’outil de tri de Pandas est moins performant en termes de rapidité d’exécution que le *.argsort()* de NumPy. Néanmoins, les possibilités plus grandes et le fait de travailler sur une structure plus complexe, telle que le DataFrame, nous confortent\n",
    "dans l’utilisation du tri de Pandas pour nos analyses."
   ]
  },
  {
   "cell_type": "markdown",
   "metadata": {},
   "source": [
    "### 4.3.7 Le traitement de données temporelles\n",
    "Python a de nombreux outils pour travailler sur des dates, notamment le package\n",
    "datetime nativement présent dans Python.\n",
    "\n",
    "#### Les dates avec NumPy\n",
    "\n",
    "Depuis peu, il est possible de travailler avec des dates à l’intérieur d’un array de NumPy (depuis NumPy 1.7). Ainsi la fonction np.datetime64 permet de créer des dates, et le type datetime est utilisable pour créer des arrays. On peut par exemple\n",
    "utiliser *arange()* pour générer une suite de semaines de janvier 2017 à janvier 2018 :"
   ]
  },
  {
   "cell_type": "code",
   "execution_count": 32,
   "metadata": {},
   "outputs": [
    {
     "data": {
      "text/plain": [
       "array(['2016-12-29', '2017-01-05', '2017-01-12', '2017-01-19',\n",
       "       '2017-01-26', '2017-02-02', '2017-02-09', '2017-02-16',\n",
       "       '2017-02-23', '2017-03-02', '2017-03-09', '2017-03-16',\n",
       "       '2017-03-23', '2017-03-30', '2017-04-06', '2017-04-13',\n",
       "       '2017-04-20', '2017-04-27', '2017-05-04', '2017-05-11',\n",
       "       '2017-05-18', '2017-05-25', '2017-06-01', '2017-06-08',\n",
       "       '2017-06-15', '2017-06-22', '2017-06-29', '2017-07-06',\n",
       "       '2017-07-13', '2017-07-20', '2017-07-27', '2017-08-03',\n",
       "       '2017-08-10', '2017-08-17', '2017-08-24', '2017-08-31',\n",
       "       '2017-09-07', '2017-09-14', '2017-09-21', '2017-09-28',\n",
       "       '2017-10-05', '2017-10-12', '2017-10-19', '2017-10-26',\n",
       "       '2017-11-02', '2017-11-09', '2017-11-16', '2017-11-23',\n",
       "       '2017-11-30', '2017-12-07', '2017-12-14', '2017-12-21'],\n",
       "      dtype='datetime64[W]')"
      ]
     },
     "execution_count": 32,
     "metadata": {},
     "output_type": "execute_result"
    }
   ],
   "source": [
    "np.arange(\"2017-01-01\",\"2018-01-01\", dtype=\"datetime64[W]\")"
   ]
  },
  {
   "cell_type": "markdown",
   "metadata": {},
   "source": [
    "Il existe de nombreuses fonctions permettant de travailler sur les dates, notamment avec les différences basées sur la fonction timedelta().\n",
    "On peut aussi travailler sur les jours travaillés (business days). Cette partie de NumPy est en constante évolution. La documentation de NumPy est le meilleur outil pour en suivre les avancées."
   ]
  },
  {
   "cell_type": "markdown",
   "metadata": {},
   "source": [
    "#### Les dates avec Pandas\n",
    "C'est clairement Pandas qui a l'ascendant sur le traitement des dates en data science. Avec des fonctions efficaces et simples à prendre en main, le travail sur les dates est extrêmement simplifié.\n",
    "\n",
    "Pandas possède de sérieux atouts dans la prise en compte des dates notamment avec l’intégration des formats de dates dans l’importation des données. Néanmoins, si vos données n’ont pas été correctement importées, il est très simple de transformer des chaînes de caractères dans un DataFrame ou dans une Series en dates. Pour cela, on utilise :"
   ]
  },
  {
   "cell_type": "code",
   "execution_count": 33,
   "metadata": {},
   "outputs": [
    {
     "data": {
      "text/plain": [
       "DatetimeIndex(['2017-12-11', '2018-01-05'], dtype='datetime64[ns]', freq=None)"
      ]
     },
     "execution_count": 33,
     "metadata": {},
     "output_type": "execute_result"
    }
   ],
   "source": [
    "pd.to_datetime(['11/12/2017', '05-01-2018'], dayfirst=True)"
   ]
  },
  {
   "cell_type": "markdown",
   "metadata": {},
   "source": [
    "On crée ainsi un DatetimeIndex qui peut être utilisé dans une Series ou dans\n",
    "un DataFrame. On peut aussi donner un format de dates en utilisant le paramètre *format=*.\n",
    "\n",
    "Il est souvent intéressant de traiter de nombreuses dates. On a très souvent envie de générer des suites de dates de manière automatique. Imaginons que nous avons des données quotidiennes de cotation d’un indice boursier, et que nous désirons\n",
    "transformer ces données en une série indexée sur les jours ouvrés pendant lesquels la banque est ouverte. Les données pour l’année sont stockées dans un array."
   ]
  },
  {
   "cell_type": "code",
   "execution_count": 34,
   "metadata": {},
   "outputs": [
    {
     "data": {
      "text/plain": [
       "<matplotlib.axes._subplots.AxesSubplot at 0x10b465900f0>"
      ]
     },
     "execution_count": 34,
     "metadata": {},
     "output_type": "execute_result"
    },
    {
     "data": {
      "image/png": "[encoded data removed]",
      "text/plain": [
       "<Figure size 432x288 with 1 Axes>"
      ]
     },
     "metadata": {},
     "output_type": "display_data"
    }
   ],
   "source": [
    "index_ouverture= pd.bdate_range('2017-01-01','2017-12-31')\n",
    "data=np.random.randn(index_ouverture.size)\n",
    "pd.Series(data, index=index_ouverture).plot()"
   ]
  },
  {
   "cell_type": "markdown",
   "metadata": {},
   "source": [
    "On peut aussi utiliser date_range() avec différents paramètres. Si par exemple,\n",
    "on désire générer un index avec des relevés toutes les 2 heures entre le 1er février\n",
    "2018 à 8h00 et le 31 mars 2018 à 8h00, on utilisera :"
   ]
  },
  {
   "cell_type": "code",
   "execution_count": 35,
   "metadata": {},
   "outputs": [
    {
     "name": "stdout",
     "output_type": "stream",
     "text": [
      "(697,) datetime64[ns]\n"
     ]
    }
   ],
   "source": [
    "index_temps = pd.date_range('2018-02-01 08:00:00','2018-03-31 08:00:00', freq='2h')\n",
    "print(index_temps.shape, index_temps.dtype)"
   ]
  },
  {
   "cell_type": "markdown",
   "metadata": {},
   "source": [
    "De nombreuses possibilités sont accessibles pour le traitement des dates et des heures. \n",
    "\n",
    "Ainsi, si plutôt que des dates et des heures, vous préférez utiliser des périodes (ceci revient à utiliser un mois plutôt que le premier jour du mois comme valeur de votre index), vous pouvez le faire avec la fonction period_range()."
   ]
  },
  {
   "cell_type": "code",
   "execution_count": 36,
   "metadata": {},
   "outputs": [
    {
     "data": {
      "text/plain": [
       "PeriodIndex(['2017-01', '2017-02', '2017-03', '2017-04', '2017-05', '2017-06',\n",
       "             '2017-07', '2017-08', '2017-09', '2017-10', '2017-11', '2017-12',\n",
       "             '2018-01'],\n",
       "            dtype='period[M]', freq='M')"
      ]
     },
     "execution_count": 36,
     "metadata": {},
     "output_type": "execute_result"
    }
   ],
   "source": [
    "pd.period_range(\"01-01-2017\",\"01-01-2018\", freq=\"M\")"
   ]
  },
  {
   "cell_type": "markdown",
   "metadata": {},
   "source": [
    "On a ainsi généré une suite de mois. Ceci peut se faire sur des semaines (W), des trimestres (Q), des années (A)…\n",
    "\n",
    "Si on désire générer des périodes, on pourra le faire grâce à pd.period() :"
   ]
  },
  {
   "cell_type": "code",
   "execution_count": 37,
   "metadata": {},
   "outputs": [
    {
     "data": {
      "text/plain": [
       "PeriodIndex(['2017Q1', '2017Q2', '2017Q3', '2017Q4', '2018Q1', '2018Q2',\n",
       "             '2018Q3', '2018Q4', '2019Q1'],\n",
       "            dtype='period[Q-DEC]', freq='Q-DEC')"
      ]
     },
     "execution_count": 37,
     "metadata": {},
     "output_type": "execute_result"
    }
   ],
   "source": [
    "pd.period_range(pd.Period(\"2017-01\", freq=\"M\"), pd.Period(\"2019-01\", freq=\"M\"), freq=\"Q\")"
   ]
  },
  {
   "cell_type": "markdown",
   "metadata": {},
   "source": [
    "Par ailleurs, vous pouvez traiter les fuseaux horaires de manière simplifiée avec\n",
    "Pandas en utilisant la propriété .tz. Par défaut, une date n’est associée à aucune\n",
    "timezone :"
   ]
  },
  {
   "cell_type": "code",
   "execution_count": 38,
   "metadata": {},
   "outputs": [
    {
     "data": {
      "text/plain": [
       "True"
      ]
     },
     "execution_count": 38,
     "metadata": {},
     "output_type": "execute_result"
    }
   ],
   "source": [
    "index_temps.tz is None"
   ]
  },
  {
   "cell_type": "markdown",
   "metadata": {},
   "source": [
    "Pour définir un fuseau horaire, on le fait généralement dans la fonction date_range(), qui a un paramètre tz = . Les fuseaux horaires peuvent être définis, avec\n",
    "une chaîne de caractères incluant une combinaison zone/ville (\"Europe/Paris\"), vous pouvez en obtenir la liste exhaustive en important :"
   ]
  },
  {
   "cell_type": "code",
   "execution_count": 39,
   "metadata": {},
   "outputs": [
    {
     "data": {
      "text/plain": [
       "['Africa/Abidjan',\n",
       " 'Africa/Accra',\n",
       " 'Africa/Addis_Ababa',\n",
       " 'Africa/Algiers',\n",
       " 'Africa/Asmara',\n",
       " 'Africa/Asmera',\n",
       " 'Africa/Bamako',\n",
       " 'Africa/Bangui',\n",
       " 'Africa/Banjul',\n",
       " 'Africa/Bissau']"
      ]
     },
     "execution_count": 39,
     "metadata": {},
     "output_type": "execute_result"
    }
   ],
   "source": [
    "from pytz import common_timezones, all_timezones\n",
    "all_timezones[:10]"
   ]
  },
  {
   "cell_type": "markdown",
   "metadata": {},
   "source": [
    "Si vous avez déjà défini vos dates et que vous désirez leur ajouter un fuseau horaire, vous allez utiliser la méthode tz_localize(). Imaginons que l’on génère\n",
    "des données toutes les deux heures à Paris, on veut transformer cet index en passant sur le fuseau horaire de Nouméa en Nouvelle-Calédonie, voici le code :"
   ]
  },
  {
   "cell_type": "code",
   "execution_count": 40,
   "metadata": {},
   "outputs": [
    {
     "data": {
      "text/plain": [
       "DatetimeIndex(['2018-01-01 09:00:00+01:00', '2018-01-01 11:00:00+01:00',\n",
       "               '2018-01-01 13:00:00+01:00', '2018-01-01 15:00:00+01:00',\n",
       "               '2018-01-01 17:00:00+01:00'],\n",
       "              dtype='datetime64[ns, Europe/Paris]', freq='2H')"
      ]
     },
     "execution_count": 40,
     "metadata": {},
     "output_type": "execute_result"
    }
   ],
   "source": [
    "index_heures=pd.date_range(\"2018-01-01 09:00:00\", \"2018-01-01 18:00:00\", freq=\"2h\")\n",
    "index_heures_paris = index_heures.tz_localize(\"Europe/Paris\")\n",
    "index_heures_paris"
   ]
  },
  {
   "cell_type": "code",
   "execution_count": 41,
   "metadata": {},
   "outputs": [
    {
     "data": {
      "text/plain": [
       "DatetimeIndex(['2018-01-01 19:00:00+11:00', '2018-01-01 21:00:00+11:00',\n",
       "               '2018-01-01 23:00:00+11:00', '2018-01-02 01:00:00+11:00',\n",
       "               '2018-01-02 03:00:00+11:00'],\n",
       "              dtype='datetime64[ns, Pacific/Noumea]', freq='2H')"
      ]
     },
     "execution_count": 41,
     "metadata": {},
     "output_type": "execute_result"
    }
   ],
   "source": [
    "index_heures_noumea = index_heures_paris.tz_convert(\"Pacific/Noumea\")\n",
    "index_heures_noumea"
   ]
  },
  {
   "cell_type": "markdown",
   "metadata": {},
   "source": [
    "Il existe de nombreux autres outils pour travailler sur les dates en Python.\n",
    "Notamment, lorsqu’on traite des séries temporelles, on peut utiliser l’outil rolling :"
   ]
  },
  {
   "cell_type": "code",
   "execution_count": 42,
   "metadata": {},
   "outputs": [
    {
     "data": {
      "text/plain": [
       "<matplotlib.axes._subplots.AxesSubplot at 0x10b46694390>"
      ]
     },
     "execution_count": 42,
     "metadata": {},
     "output_type": "execute_result"
    },
    {
     "data": {
      "image/png": "[encoded data removed]",
      "text/plain": [
       "<Figure size 432x288 with 1 Axes>"
      ]
     },
     "metadata": {},
     "output_type": "display_data"
    }
   ],
   "source": [
    "pd.Series(data, index=index_ouverture).plot()\n",
    "pd.Series(data, index=index_ouverture).rolling(window=10).mean().plot()\n",
    "#La deuxième ligne permet d’afficher la moyenne prise sur 10 points adjacents."
   ]
  },
  {
   "cell_type": "markdown",
   "metadata": {},
   "source": [
    "### 4.3.8 Le traitement des données manquantes\n",
    "Les données manquantes sont un domaine de la data science à part entière. Leur traitement nécessite une réflexion bien au-delà de quelques lignes de codes.\n",
    "\n",
    "Dans tous vos projets data science, vous serez confronté à des données manquantes, elles sont réparties en trois types principaux :\n",
    "\n",
    "- Les données manquantes complètement aléatoirement\n",
    "- Les données manquantes aléatoirement\n",
    "- Les données manquantes non aléatoirement\n",
    "\n",
    "Ainsi, pour les deux premiers cas, on pourra penser à des méthodes d’imputation\n",
    "alors que pour le troisième il ne sera pas possible de faire cela."
   ]
  },
  {
   "cell_type": "markdown",
   "metadata": {},
   "source": [
    "#### Les données manquantes en Python\n",
    "NumPy possède un code standard pour gérer les données manquantes, il s’agit\n",
    "de NaN. On peut définir un élément d’un array comme une donnée manquante en\n",
    "utilisant :"
   ]
  },
  {
   "cell_type": "code",
   "execution_count": 43,
   "metadata": {},
   "outputs": [
    {
     "data": {
      "text/plain": [
       "nan"
      ]
     },
     "execution_count": 43,
     "metadata": {},
     "output_type": "execute_result"
    }
   ],
   "source": [
    "table = np.random.rand(5000, 10)\n",
    "table[0,1]=np.nan\n",
    "table[0,1]"
   ]
  },
  {
   "cell_type": "markdown",
   "metadata": {},
   "source": [
    "L’avantage d’utiliser ce codage réside dans le fait que les nan n’altèrent pas le type\n",
    "de votre array et qu’ils ne sont pas pris en compte dans les calculs de statistiques\n",
    "descriptives avec les fonctions adaptées :"
   ]
  },
  {
   "cell_type": "code",
   "execution_count": 44,
   "metadata": {},
   "outputs": [
    {
     "data": {
      "text/plain": [
       "9.0"
      ]
     },
     "execution_count": 44,
     "metadata": {},
     "output_type": "execute_result"
    }
   ],
   "source": [
    "vec=np.ones(10)\n",
    "vec[3]=np.nan\n",
    "np.nansum(vec)"
   ]
  },
  {
   "cell_type": "markdown",
   "metadata": {},
   "source": [
    "Lorsque vous importez des données avec Pandas, celui-ci va automatiquement\n",
    "remplacer les données manquantes par des codes nan.\n",
    "\n",
    "#### La suppression des données manquantes\n",
    "L’approche la plus simple pour traiter des données manquantes est de supprimer les observations comportant des données manquantes.\n",
    "\n",
    "Pandas comporte de nombreuses méthodes pour cela. Si nous prenons les données sur les salaires des employés de la ville de Boston, nous pouvons utiliser :"
   ]
  },
  {
   "cell_type": "code",
   "execution_count": 45,
   "metadata": {},
   "outputs": [
    {
     "data": {
      "text/plain": [
       "(22245, 12)"
      ]
     },
     "execution_count": 45,
     "metadata": {},
     "output_type": "execute_result"
    }
   ],
   "source": [
    "# la table globale\n",
    "boston.shape"
   ]
  },
  {
   "cell_type": "code",
   "execution_count": 46,
   "metadata": {},
   "outputs": [
    {
     "data": {
      "text/plain": [
       "(123, 12)"
      ]
     },
     "execution_count": 46,
     "metadata": {},
     "output_type": "execute_result"
    }
   ],
   "source": [
    "# la table lorsqu’on retire les lignes avec données manquantes\n",
    "boston.dropna().shape"
   ]
  },
  {
   "cell_type": "code",
   "execution_count": 47,
   "metadata": {},
   "outputs": [
    {
     "data": {
      "text/plain": [
       "(22245, 4)"
      ]
     },
     "execution_count": 47,
     "metadata": {},
     "output_type": "execute_result"
    }
   ],
   "source": [
    "# la table lorsqu’on retire les colonnes avec des données manquantes\n",
    "boston.dropna(axis = 1).shape"
   ]
  },
  {
   "cell_type": "markdown",
   "metadata": {},
   "source": [
    "On voit que dans cette table de nombreuses données manquantes existent surtout sur huit colonnes. Quatre colonnes sont complètes.\n",
    "\n",
    "#### La complétion par la moyenne, le mode ou la médiane\n",
    "\n",
    "Avant de compléter nos données, il va falloir transformer nos données Boston de manière à avoir des données numériques. En s’inspirant du code vu plus haut pour les données AirBnB, nous pouvons faire cela avec :"
   ]
  },
  {
   "cell_type": "code",
   "execution_count": 48,
   "metadata": {},
   "outputs": [],
   "source": [
    "for col in boston.columns :\n",
    "    if boston[col].dtype==object :\n",
    "        boston[col]=pd.to_numeric(boston[col].str.replace(r\"\\(.*\\)\",\"\")\\\n",
    "                                  .str.replace(\",\",\"\").str.strip(\"$\"),\n",
    "                                  errors='ignore')"
   ]
  },
  {
   "cell_type": "markdown",
   "metadata": {},
   "source": [
    "Dans ce code, on supprime d’abord les parenthèses en utilisant une expression régulière (voir le chapitre 2), puis on élimine les virgules et on enlève du sigle $ lorsqu’il est en début de chaîne.\n",
    "\n",
    "On a maintenant huit colonnes en float avec des salaires.\n",
    "\n",
    "On peut maintenant travailler sur les données manquantes. Il existe deux moyens de compléter par la moyenne ou par la médiane.\n",
    "\n",
    "Un premier en utilisant Pandas :"
   ]
  },
  {
   "cell_type": "code",
   "execution_count": 49,
   "metadata": {},
   "outputs": [],
   "source": [
    "# pour la moyenne\n",
    "for col in boston.columns :\n",
    "    if boston[col].dtype ==np.number :\n",
    "        boston[col]= boston[col].fillna(boston[col].mean())\n",
    "\n",
    "        \n",
    "# pour la médiane\n",
    "for col in boston.columns :\n",
    "    if boston[col].dtype ==np.number :\n",
    "        boston[col]= boston[col].fillna(boston[col].median())\n",
    "\n",
    "# pour le mode, on utilise une condition à l’intérieur de l’appel de la boucle \n",
    "# qui est équivalente à ce que nous faisions plus haut\n",
    "# le calcul du mode renvoie un objet Series et non une valeur comme les autres \n",
    "# méthodes, d’où le [0]\n",
    "for col in boston.select_dtypes(object).columns :\n",
    "    boston[col]= boston[col].fillna(boston[col].mode()[0])"
   ]
  },
  {
   "cell_type": "markdown",
   "metadata": {},
   "source": [
    "Le package Scikit-Learn permet aussi de faire des remplacements par la moyenne\n",
    "ou la médiane :"
   ]
  },
  {
   "cell_type": "code",
   "execution_count": 50,
   "metadata": {},
   "outputs": [
    {
     "name": "stderr",
     "output_type": "stream",
     "text": [
      "C:\\Users\\s4d-asus-14\\Anaconda3\\lib\\site-packages\\sklearn\\utils\\deprecation.py:58: DeprecationWarning: Class Imputer is deprecated; Imputer was deprecated in version 0.20 and will be removed in 0.22. Import impute.SimpleImputer from sklearn instead.\n",
      "  warnings.warn(msg, category=DeprecationWarning)\n"
     ]
    }
   ],
   "source": [
    "# on importe la classe depuis le module preprocessing (jusqu'à sklearn 0.22)\n",
    "from sklearn.preprocessing import Imputer\n",
    "# on crée un objet de cette classe avec la stratégie d’imputation comme\n",
    "# paramètre\n",
    "imputer = Imputer(strategy = \"mean\")\n",
    "# on construit un nouveau jeu de données en appliquant la méthode\n",
    "# .fit_transform()\n",
    "boston_imputee = imputer.fit_transform(boston.select_dtypes(np.number))"
   ]
  },
  {
   "cell_type": "code",
   "execution_count": 51,
   "metadata": {},
   "outputs": [],
   "source": [
    "# à partir de sklearn version 0.20\n",
    "from sklearn.impute import SimpleImputer\n",
    "# on crée un objet de cette classe avec la stratégie d’imputation comme\n",
    "# paramètre\n",
    "imputer = SimpleImputer(strategy = \"mean\")\n",
    "# on construit un nouveau jeu de données en appliquant la méthode\n",
    "# .fit_transform()\n",
    "boston_imputee2 = imputer.fit_transform(boston.select_dtypes(np.number))"
   ]
  },
  {
   "cell_type": "markdown",
   "metadata": {},
   "source": [
    "### 4.3.9 Le traitement des colonnes avec des données qualitatives\n",
    "Les données qualitatives sont extrêmement présentes dans les données. Dès que vous travaillez sur des données socio-démographiques sur des individus, vous allez rencontrer des données qualitatives. Le traitement des données qualitatives est souvent négligé dans les ouvrages de traitement de la donnée. Il est donc primordial de bien expliquer le traitement qu’elles requièrent.\n",
    "\n",
    "#### Le type categorical\n",
    "Les données qualitatives sont des valeurs textuelles par défaut. Pandas propose un type spécifique pour traiter ce type de données. Le type categorical permet d’optimiser le traitement de ce type de données.\n",
    "\n",
    "Il permet de créer et de transformer des données de ce type. Vous avez importé des données avec des variables qualitatives, Pandas va automatiquement les considérer comme du type object. Vous pourrez le voir en utilisant la propriété .dtype.\n",
    "Si vous désirez transformer ce type en un type categorical, vous pouvez utiliser la fonction pd.Categorical() :"
   ]
  },
  {
   "cell_type": "code",
   "execution_count": 52,
   "metadata": {},
   "outputs": [
    {
     "data": {
      "text/plain": [
       "[Boston, Paris, Londres, Paris, Boston]\n",
       "Categories (3, object): [Boston, Londres, Paris]"
      ]
     },
     "execution_count": 52,
     "metadata": {},
     "output_type": "execute_result"
    }
   ],
   "source": [
    "var_quali=pd.Categorical([\"Boston\",\"Paris\",\"Londres\",\"Paris\", \"Boston\"])\n",
    "var_quali"
   ]
  },
  {
   "cell_type": "code",
   "execution_count": 53,
   "metadata": {},
   "outputs": [],
   "source": [
    "# on peut ajouter une modalité\n",
    "var_quali=var_quali.add_categories(\"Rome\")\n",
    "# on alloue cette valeur à un élément de notre objet\n",
    "var_quali[4]=\"Rome\" "
   ]
  },
  {
   "cell_type": "markdown",
   "metadata": {},
   "source": [
    "Si on modifie notre objet en y ajoutant une modalité non définie au préalable alors on aura un message d’erreur.\n",
    "Si on veut transformer une colonne objet en category, on utilise :"
   ]
  },
  {
   "cell_type": "code",
   "execution_count": 54,
   "metadata": {},
   "outputs": [
    {
     "name": "stderr",
     "output_type": "stream",
     "text": [
      "C:\\Users\\s4d-asus-14\\Anaconda3\\lib\\site-packages\\ipykernel_launcher.py:1: FutureWarning: specifying 'categories' or 'ordered' in .astype() is deprecated; pass a CategoricalDtype instead\n",
      "  \"\"\"Entry point for launching an IPython kernel.\n"
     ]
    },
    {
     "data": {
      "text/plain": [
       "CategoricalDtype(categories=['10025', '10033', '10128', '1027', '1028', '1040', '10466',\n",
       "                  '10512', '1057', '1085',\n",
       "                  ...\n",
       "                  '95008', '97201', '97209', '97410', '98074', '98121',\n",
       "                  '98144', '98296', 'B1S 3', 'UNKNO'],\n",
       "                 ordered=False)"
      ]
     },
     "execution_count": 54,
     "metadata": {},
     "output_type": "execute_result"
    }
   ],
   "source": [
    "boston[\"POSTAL\"]=boston[\"POSTAL\"].astype(\"category\", ordered=False)\n",
    "#équivalent sans warning\n",
    "boston[\"POSTAL\"]=boston[\"POSTAL\"].astype(pd.api.types.CategoricalDtype(ordered=False))\n",
    "\n",
    "boston[\"POSTAL\"].dtype\n"
   ]
  },
  {
   "cell_type": "markdown",
   "metadata": {},
   "source": [
    "On utilise ordered = False car il n’y a pas d’ordre entre les modalités de notre colonne. Si une notion d’ordre doit être ajoutée, on ajoute la liste des modalités et on\n",
    "passe le paramètre ordered à True.\n",
    "\n",
    "Le type Categorical est inspiré du type factor de R."
   ]
  },
  {
   "cell_type": "markdown",
   "metadata": {},
   "source": [
    "#### La transformation des données\n",
    "Pour traiter des données qualitatives, il faudra les transformer. \n",
    "\n",
    "En effet, les algorithmes que vous aurez à utiliser sont basés sur des données numériques et donc des variables quantitatives.\n",
    "\n",
    "Si vous travaillez sur des données nominales, il va falloir transformer les variables en indicatrices. C’est-à-dire que vous allez obtenir une colonne pour chaque modalité de votre variable qualitative.\n",
    "\n",
    "Cette approche peut être appliquée avec deux packages que nous utilisons souvent : Pandas et Scikit-Learn.\n",
    "\n",
    "Dans le cadre de nos données sur les logements AirBnB, nous avons plusieurs variables qualitatives, notamment roomtype qui a trois modalités :"
   ]
  },
  {
   "cell_type": "code",
   "execution_count": 55,
   "metadata": {},
   "outputs": [
    {
     "data": {
      "text/plain": [
       "Entire home/apt    4329\n",
       "Private room        623\n",
       "Shared room          48\n",
       "Name: room_type, dtype: int64"
      ]
     },
     "execution_count": 55,
     "metadata": {},
     "output_type": "execute_result"
    }
   ],
   "source": [
    "listing[\"room_type\"].value_counts()"
   ]
  },
  {
   "cell_type": "markdown",
   "metadata": {},
   "source": [
    "##### Approche Pandas avec get_dummies() :"
   ]
  },
  {
   "cell_type": "code",
   "execution_count": 56,
   "metadata": {},
   "outputs": [
    {
     "data": {
      "text/html": [
       "<div>\n",
       "<style scoped>\n",
       "    .dataframe tbody tr th:only-of-type {\n",
       "        vertical-align: middle;\n",
       "    }\n",
       "\n",
       "    .dataframe tbody tr th {\n",
       "        vertical-align: top;\n",
       "    }\n",
       "\n",
       "    .dataframe thead th {\n",
       "        text-align: right;\n",
       "    }\n",
       "</style>\n",
       "<table border=\"1\" class=\"dataframe\">\n",
       "  <thead>\n",
       "    <tr style=\"text-align: right;\">\n",
       "      <th></th>\n",
       "      <th>Entire home/apt</th>\n",
       "      <th>Private room</th>\n",
       "      <th>Shared room</th>\n",
       "    </tr>\n",
       "  </thead>\n",
       "  <tbody>\n",
       "    <tr>\n",
       "      <th>52948</th>\n",
       "      <td>1</td>\n",
       "      <td>0</td>\n",
       "      <td>0</td>\n",
       "    </tr>\n",
       "    <tr>\n",
       "      <th>11523</th>\n",
       "      <td>1</td>\n",
       "      <td>0</td>\n",
       "      <td>0</td>\n",
       "    </tr>\n",
       "    <tr>\n",
       "      <th>57517</th>\n",
       "      <td>1</td>\n",
       "      <td>0</td>\n",
       "      <td>0</td>\n",
       "    </tr>\n",
       "    <tr>\n",
       "      <th>55551</th>\n",
       "      <td>0</td>\n",
       "      <td>1</td>\n",
       "      <td>0</td>\n",
       "    </tr>\n",
       "    <tr>\n",
       "      <th>2440</th>\n",
       "      <td>1</td>\n",
       "      <td>0</td>\n",
       "      <td>0</td>\n",
       "    </tr>\n",
       "  </tbody>\n",
       "</table>\n",
       "</div>"
      ],
      "text/plain": [
       "       Entire home/apt  Private room  Shared room\n",
       "52948                1             0            0\n",
       "11523                1             0            0\n",
       "57517                1             0            0\n",
       "55551                0             1            0\n",
       "2440                 1             0            0"
      ]
     },
     "execution_count": 56,
     "metadata": {},
     "output_type": "execute_result"
    }
   ],
   "source": [
    "frame_room_type = pd.get_dummies(listing[\"room_type\"])\n",
    "frame_room_type.head()"
   ]
  },
  {
   "cell_type": "markdown",
   "metadata": {},
   "source": [
    "Cette fonction crée un nouveau DataFrame \n",
    "\n",
    "##### Approche Scikit-Learn avec OneHotEncoder() :\n",
    "\n",
    "Dans ce cas, il faut que la variable qualitative soit déjà sous forme d’entiers entre 0 et p-1, p étant le nombre de modalités de notre variable.\n",
    "\n",
    "On va combiner deux classes de Scikit-Learn : LabelEncoder et OneHotEncoder.\n",
    "\n",
    "La première va permettre de recoder les valeurs textuelles en entiers et la seconde de construire des colonnes binaires à partir des valeurs de la variable transformée.\n",
    "\n",
    "Voici le code :"
   ]
  },
  {
   "cell_type": "code",
   "execution_count": 57,
   "metadata": {},
   "outputs": [
    {
     "name": "stderr",
     "output_type": "stream",
     "text": [
      "C:\\Users\\s4d-asus-14\\Anaconda3\\lib\\site-packages\\sklearn\\preprocessing\\_encoders.py:363: FutureWarning: The handling of integer data will change in version 0.22. Currently, the categories are determined based on the range [0, max(values)], while in the future they will be determined based on the unique values.\n",
      "If you want the future behaviour and silence this warning, you can specify \"categories='auto'\".\n",
      "In case you used a LabelEncoder before this OneHotEncoder to convert the categories to integers, then you can now use the OneHotEncoder directly.\n",
      "  warnings.warn(msg, FutureWarning)\n"
     ]
    },
    {
     "data": {
      "text/html": [
       "<div>\n",
       "<style scoped>\n",
       "    .dataframe tbody tr th:only-of-type {\n",
       "        vertical-align: middle;\n",
       "    }\n",
       "\n",
       "    .dataframe tbody tr th {\n",
       "        vertical-align: top;\n",
       "    }\n",
       "\n",
       "    .dataframe thead th {\n",
       "        text-align: right;\n",
       "    }\n",
       "</style>\n",
       "<table border=\"1\" class=\"dataframe\">\n",
       "  <thead>\n",
       "    <tr style=\"text-align: right;\">\n",
       "      <th></th>\n",
       "      <th>Entire home/apt</th>\n",
       "      <th>Private room</th>\n",
       "      <th>Shared room</th>\n",
       "    </tr>\n",
       "  </thead>\n",
       "  <tbody>\n",
       "    <tr>\n",
       "      <th>0</th>\n",
       "      <td>1.0</td>\n",
       "      <td>0.0</td>\n",
       "      <td>0.0</td>\n",
       "    </tr>\n",
       "    <tr>\n",
       "      <th>1</th>\n",
       "      <td>1.0</td>\n",
       "      <td>0.0</td>\n",
       "      <td>0.0</td>\n",
       "    </tr>\n",
       "    <tr>\n",
       "      <th>2</th>\n",
       "      <td>1.0</td>\n",
       "      <td>0.0</td>\n",
       "      <td>0.0</td>\n",
       "    </tr>\n",
       "    <tr>\n",
       "      <th>3</th>\n",
       "      <td>0.0</td>\n",
       "      <td>1.0</td>\n",
       "      <td>0.0</td>\n",
       "    </tr>\n",
       "    <tr>\n",
       "      <th>4</th>\n",
       "      <td>1.0</td>\n",
       "      <td>0.0</td>\n",
       "      <td>0.0</td>\n",
       "    </tr>\n",
       "  </tbody>\n",
       "</table>\n",
       "</div>"
      ],
      "text/plain": [
       "   Entire home/apt  Private room  Shared room\n",
       "0              1.0           0.0          0.0\n",
       "1              1.0           0.0          0.0\n",
       "2              1.0           0.0          0.0\n",
       "3              0.0           1.0          0.0\n",
       "4              1.0           0.0          0.0"
      ]
     },
     "execution_count": 57,
     "metadata": {},
     "output_type": "execute_result"
    }
   ],
   "source": [
    "# on importe les classes\n",
    "from sklearn.preprocessing import LabelEncoder, OneHotEncoder\n",
    "# on crée un objet de la classe LabelEncoder\n",
    "encode1=LabelEncoder()\n",
    "# on crée un objet de la classe OneHotEncoder\n",
    "encode2=OneHotEncoder(sparse = False)\n",
    "# on combine l’application des deux classes\n",
    "array_out=encode2.fit_transform(encode1.fit_transform(listing[\"room_type\"]).reshape(-1,1))\n",
    "# on transforme la sortie en DataFrame\n",
    "pd.DataFrame(array_out, columns=listing[\"room_type\"].unique()).head()"
   ]
  },
  {
   "cell_type": "markdown",
   "metadata": {},
   "source": [
    "**Attention à partir de la version 0.20 de Scikit Learn, OneHotEncoder peut gérer des données non numériques, on a alors :**"
   ]
  },
  {
   "cell_type": "code",
   "execution_count": 58,
   "metadata": {},
   "outputs": [
    {
     "data": {
      "text/html": [
       "<div>\n",
       "<style scoped>\n",
       "    .dataframe tbody tr th:only-of-type {\n",
       "        vertical-align: middle;\n",
       "    }\n",
       "\n",
       "    .dataframe tbody tr th {\n",
       "        vertical-align: top;\n",
       "    }\n",
       "\n",
       "    .dataframe thead th {\n",
       "        text-align: right;\n",
       "    }\n",
       "</style>\n",
       "<table border=\"1\" class=\"dataframe\">\n",
       "  <thead>\n",
       "    <tr style=\"text-align: right;\">\n",
       "      <th></th>\n",
       "      <th>Entire home/apt</th>\n",
       "      <th>Private room</th>\n",
       "      <th>Shared room</th>\n",
       "    </tr>\n",
       "  </thead>\n",
       "  <tbody>\n",
       "    <tr>\n",
       "      <th>0</th>\n",
       "      <td>1.0</td>\n",
       "      <td>0.0</td>\n",
       "      <td>0.0</td>\n",
       "    </tr>\n",
       "    <tr>\n",
       "      <th>1</th>\n",
       "      <td>1.0</td>\n",
       "      <td>0.0</td>\n",
       "      <td>0.0</td>\n",
       "    </tr>\n",
       "    <tr>\n",
       "      <th>2</th>\n",
       "      <td>1.0</td>\n",
       "      <td>0.0</td>\n",
       "      <td>0.0</td>\n",
       "    </tr>\n",
       "    <tr>\n",
       "      <th>3</th>\n",
       "      <td>0.0</td>\n",
       "      <td>1.0</td>\n",
       "      <td>0.0</td>\n",
       "    </tr>\n",
       "    <tr>\n",
       "      <th>4</th>\n",
       "      <td>1.0</td>\n",
       "      <td>0.0</td>\n",
       "      <td>0.0</td>\n",
       "    </tr>\n",
       "  </tbody>\n",
       "</table>\n",
       "</div>"
      ],
      "text/plain": [
       "   Entire home/apt  Private room  Shared room\n",
       "0              1.0           0.0          0.0\n",
       "1              1.0           0.0          0.0\n",
       "2              1.0           0.0          0.0\n",
       "3              0.0           1.0          0.0\n",
       "4              1.0           0.0          0.0"
      ]
     },
     "execution_count": 58,
     "metadata": {},
     "output_type": "execute_result"
    }
   ],
   "source": [
    "# on importe les classes\n",
    "from sklearn.preprocessing import OneHotEncoder\n",
    "# on crée un objet de la classe OneHotEncoder\n",
    "encode=OneHotEncoder(sparse = False)\n",
    "# on l'applique directement sur la colonnes initiale\n",
    "array_out=encode.fit_transform(np.array(listing[\"room_type\"]).reshape(-1,1))\n",
    "# on transforme la sortie en DataFrame\n",
    "pd.DataFrame(array_out, columns=listing[\"room_type\"].unique()).head()"
   ]
  },
  {
   "cell_type": "markdown",
   "metadata": {},
   "source": [
    "Si vous travaillez sur des données ordinales (avec des modalités ordonnées), il vous suffit de recoder une variable avec des valeurs chiffrées (attention, cette approche\n",
    "n’est valable que pour des données ordinales).\n",
    "\n",
    "##### Approche avec Pandas :\n",
    "\n",
    "Il n’y a pas d’approche automatisée, on peut utiliser le code suivant :"
   ]
  },
  {
   "cell_type": "code",
   "execution_count": 59,
   "metadata": {},
   "outputs": [],
   "source": [
    "listing[\"room_type2\"]=listing[\"room_type\"].map(dict(zip(listing[\"room_type\"]\\\n",
    "                                                        .unique(),\n",
    "                                                        range(listing[\"room_type\"].nunique())) ))"
   ]
  },
  {
   "cell_type": "markdown",
   "metadata": {},
   "source": [
    "On crée donc une colonne en utilisant un dictionnaire qui permet de faire correspondre\n",
    "des éléments de celui-ci à des valeurs entières.\n",
    "\n",
    "##### Approche avec Scikit-Learn :\n",
    "\n",
    "Cette approche est plus simple, elle se base sur l’outil LabelEncoder et se fait avec\n",
    "ce code :"
   ]
  },
  {
   "cell_type": "code",
   "execution_count": 60,
   "metadata": {},
   "outputs": [],
   "source": [
    "from sklearn.preprocessing import LabelEncoder\n",
    "encode1=LabelEncoder()\n",
    "listing[\"room_type2\"]=encode1.fit_transform(listing[\"room_type\"])"
   ]
  },
  {
   "cell_type": "markdown",
   "metadata": {},
   "source": [
    "Ces méthodes sont centrales car la plupart des algorithmes en Python ne\n",
    "supportent pas le type categorical."
   ]
  },
  {
   "cell_type": "markdown",
   "metadata": {},
   "source": [
    "### 4.3.10 Les transformations numériques\n",
    "\n",
    "Lorsque vous travaillez sur des données, un certain nombre de transformations de base sont nécessaires. Trois packages pourront être utiles pour ce type de transformations : Scikit-Learn, Pandas et SciPy.\n",
    "\n",
    "Avec Pandas, la plupart des transformations se font en faisant les calculs directement en utilisant les fonctions universelles de Pandas.\n",
    "\n",
    "Avec Scikit-Learn, l’approche est légèrement différente. Dans ce cas, on utilise des classes permettant de transformer les données.\n",
    "\n",
    "SciPy nous permet d’appliquer des transformations plus spécifiques.\n",
    "\n",
    "Nous utiliserons les données sur les employés de la ville de Boston desquelles nous extrayons les colonnes numériques :"
   ]
  },
  {
   "cell_type": "code",
   "execution_count": 61,
   "metadata": {},
   "outputs": [],
   "source": [
    "boston_num=boston.select_dtypes(include=[np.number])"
   ]
  },
  {
   "cell_type": "markdown",
   "metadata": {},
   "source": [
    "#### Centrer et réduire les données"
   ]
  },
  {
   "cell_type": "code",
   "execution_count": 62,
   "metadata": {},
   "outputs": [
    {
     "data": {
      "text/html": [
       "<div>\n",
       "<style scoped>\n",
       "    .dataframe tbody tr th:only-of-type {\n",
       "        vertical-align: middle;\n",
       "    }\n",
       "\n",
       "    .dataframe tbody tr th {\n",
       "        vertical-align: top;\n",
       "    }\n",
       "\n",
       "    .dataframe thead th {\n",
       "        text-align: right;\n",
       "    }\n",
       "</style>\n",
       "<table border=\"1\" class=\"dataframe\">\n",
       "  <thead>\n",
       "    <tr style=\"text-align: right;\">\n",
       "      <th></th>\n",
       "      <th>REGULAR</th>\n",
       "      <th>RETRO</th>\n",
       "      <th>OTHER</th>\n",
       "      <th>OVERTIME</th>\n",
       "      <th>INJURED</th>\n",
       "      <th>DETAIL</th>\n",
       "      <th>QUINN/EDUCATION INCENTIVE</th>\n",
       "      <th>TOTAL EARNINGS</th>\n",
       "    </tr>\n",
       "  </thead>\n",
       "  <tbody>\n",
       "    <tr>\n",
       "      <th>0</th>\n",
       "      <td>1.850181</td>\n",
       "      <td>8.933771e-13</td>\n",
       "      <td>1.441325</td>\n",
       "      <td>-0.745999</td>\n",
       "      <td>1.373371e-12</td>\n",
       "      <td>1.274160e-12</td>\n",
       "      <td>6.881953e+00</td>\n",
       "      <td>2.036972</td>\n",
       "    </tr>\n",
       "    <tr>\n",
       "      <th>1</th>\n",
       "      <td>-0.123227</td>\n",
       "      <td>8.933771e-13</td>\n",
       "      <td>-0.041237</td>\n",
       "      <td>-1.393149</td>\n",
       "      <td>1.373371e-12</td>\n",
       "      <td>1.274160e-12</td>\n",
       "      <td>-1.452477e-12</td>\n",
       "      <td>-0.184888</td>\n",
       "    </tr>\n",
       "    <tr>\n",
       "      <th>2</th>\n",
       "      <td>1.701400</td>\n",
       "      <td>8.933771e-13</td>\n",
       "      <td>0.375293</td>\n",
       "      <td>1.301949</td>\n",
       "      <td>1.373371e-12</td>\n",
       "      <td>4.318385e-01</td>\n",
       "      <td>6.015775e+00</td>\n",
       "      <td>2.614268</td>\n",
       "    </tr>\n",
       "    <tr>\n",
       "      <th>3</th>\n",
       "      <td>0.910494</td>\n",
       "      <td>1.820365e+00</td>\n",
       "      <td>1.426269</td>\n",
       "      <td>6.827857</td>\n",
       "      <td>-3.098121e+00</td>\n",
       "      <td>-4.137334e-01</td>\n",
       "      <td>3.238995e+00</td>\n",
       "      <td>3.203649</td>\n",
       "    </tr>\n",
       "    <tr>\n",
       "      <th>4</th>\n",
       "      <td>0.232093</td>\n",
       "      <td>8.933771e-13</td>\n",
       "      <td>-0.524861</td>\n",
       "      <td>-0.764557</td>\n",
       "      <td>1.373371e-12</td>\n",
       "      <td>1.274160e-12</td>\n",
       "      <td>-1.452477e-12</td>\n",
       "      <td>0.131807</td>\n",
       "    </tr>\n",
       "  </tbody>\n",
       "</table>\n",
       "</div>"
      ],
      "text/plain": [
       "    REGULAR         RETRO     OTHER  OVERTIME       INJURED        DETAIL  \\\n",
       "0  1.850181  8.933771e-13  1.441325 -0.745999  1.373371e-12  1.274160e-12   \n",
       "1 -0.123227  8.933771e-13 -0.041237 -1.393149  1.373371e-12  1.274160e-12   \n",
       "2  1.701400  8.933771e-13  0.375293  1.301949  1.373371e-12  4.318385e-01   \n",
       "3  0.910494  1.820365e+00  1.426269  6.827857 -3.098121e+00 -4.137334e-01   \n",
       "4  0.232093  8.933771e-13 -0.524861 -0.764557  1.373371e-12  1.274160e-12   \n",
       "\n",
       "   QUINN/EDUCATION INCENTIVE  TOTAL EARNINGS  \n",
       "0               6.881953e+00        2.036972  \n",
       "1              -1.452477e-12       -0.184888  \n",
       "2               6.015775e+00        2.614268  \n",
       "3               3.238995e+00        3.203649  \n",
       "4              -1.452477e-12        0.131807  "
      ]
     },
     "execution_count": 62,
     "metadata": {},
     "output_type": "execute_result"
    }
   ],
   "source": [
    "# avec Pandas pour centrer et réduire\n",
    "boston_std=boston_num.apply(lambda x : (x-x.mean())/x.std())\n",
    "boston_std.head()"
   ]
  },
  {
   "cell_type": "code",
   "execution_count": 63,
   "metadata": {},
   "outputs": [
    {
     "data": {
      "text/html": [
       "<div>\n",
       "<style scoped>\n",
       "    .dataframe tbody tr th:only-of-type {\n",
       "        vertical-align: middle;\n",
       "    }\n",
       "\n",
       "    .dataframe tbody tr th {\n",
       "        vertical-align: top;\n",
       "    }\n",
       "\n",
       "    .dataframe thead th {\n",
       "        text-align: right;\n",
       "    }\n",
       "</style>\n",
       "<table border=\"1\" class=\"dataframe\">\n",
       "  <thead>\n",
       "    <tr style=\"text-align: right;\">\n",
       "      <th></th>\n",
       "      <th>REGULAR</th>\n",
       "      <th>RETRO</th>\n",
       "      <th>OTHER</th>\n",
       "      <th>OVERTIME</th>\n",
       "      <th>INJURED</th>\n",
       "      <th>DETAIL</th>\n",
       "      <th>QUINN/EDUCATION INCENTIVE</th>\n",
       "      <th>TOTAL EARNINGS</th>\n",
       "    </tr>\n",
       "  </thead>\n",
       "  <tbody>\n",
       "    <tr>\n",
       "      <th>0</th>\n",
       "      <td>1.850223</td>\n",
       "      <td>-2.926772e-15</td>\n",
       "      <td>1.441358</td>\n",
       "      <td>-0.746016</td>\n",
       "      <td>-5.098004e-16</td>\n",
       "      <td>0.000000</td>\n",
       "      <td>6.882107</td>\n",
       "      <td>2.037018</td>\n",
       "    </tr>\n",
       "    <tr>\n",
       "      <th>1</th>\n",
       "      <td>-0.123229</td>\n",
       "      <td>-2.926772e-15</td>\n",
       "      <td>-0.041238</td>\n",
       "      <td>-1.393180</td>\n",
       "      <td>-5.098004e-16</td>\n",
       "      <td>0.000000</td>\n",
       "      <td>0.000000</td>\n",
       "      <td>-0.184892</td>\n",
       "    </tr>\n",
       "    <tr>\n",
       "      <th>2</th>\n",
       "      <td>1.701439</td>\n",
       "      <td>-2.926772e-15</td>\n",
       "      <td>0.375301</td>\n",
       "      <td>1.301979</td>\n",
       "      <td>-5.098004e-16</td>\n",
       "      <td>0.431848</td>\n",
       "      <td>6.015910</td>\n",
       "      <td>2.614326</td>\n",
       "    </tr>\n",
       "    <tr>\n",
       "      <th>3</th>\n",
       "      <td>0.910515</td>\n",
       "      <td>1.820406e+00</td>\n",
       "      <td>1.426301</td>\n",
       "      <td>6.828010</td>\n",
       "      <td>-3.098191e+00</td>\n",
       "      <td>-0.413743</td>\n",
       "      <td>3.239068</td>\n",
       "      <td>3.203721</td>\n",
       "    </tr>\n",
       "    <tr>\n",
       "      <th>4</th>\n",
       "      <td>0.232098</td>\n",
       "      <td>-2.926772e-15</td>\n",
       "      <td>-0.524873</td>\n",
       "      <td>-0.764574</td>\n",
       "      <td>-5.098004e-16</td>\n",
       "      <td>0.000000</td>\n",
       "      <td>0.000000</td>\n",
       "      <td>0.131810</td>\n",
       "    </tr>\n",
       "  </tbody>\n",
       "</table>\n",
       "</div>"
      ],
      "text/plain": [
       "    REGULAR         RETRO     OTHER  OVERTIME       INJURED    DETAIL  \\\n",
       "0  1.850223 -2.926772e-15  1.441358 -0.746016 -5.098004e-16  0.000000   \n",
       "1 -0.123229 -2.926772e-15 -0.041238 -1.393180 -5.098004e-16  0.000000   \n",
       "2  1.701439 -2.926772e-15  0.375301  1.301979 -5.098004e-16  0.431848   \n",
       "3  0.910515  1.820406e+00  1.426301  6.828010 -3.098191e+00 -0.413743   \n",
       "4  0.232098 -2.926772e-15 -0.524873 -0.764574 -5.098004e-16  0.000000   \n",
       "\n",
       "   QUINN/EDUCATION INCENTIVE  TOTAL EARNINGS  \n",
       "0                   6.882107        2.037018  \n",
       "1                   0.000000       -0.184892  \n",
       "2                   6.015910        2.614326  \n",
       "3                   3.239068        3.203721  \n",
       "4                   0.000000        0.131810  "
      ]
     },
     "execution_count": 63,
     "metadata": {},
     "output_type": "execute_result"
    }
   ],
   "source": [
    "# avec Scikit-Learn, on utilisera la classe StandardScaler :\n",
    "from sklearn.preprocessing import StandardScaler\n",
    "scaler=StandardScaler(with_mean=True, with_std=True)\n",
    "rescaled=scaler.fit_transform(boston_num)\n",
    "pd.DataFrame(rescaled, index=boston_num.index, columns=boston_num.columns).head()"
   ]
  },
  {
   "cell_type": "markdown",
   "metadata": {},
   "source": [
    "#### Changer d’échelle\n",
    "\n",
    "On utilise pour passer à une échelle 0-100 :"
   ]
  },
  {
   "cell_type": "code",
   "execution_count": 64,
   "metadata": {},
   "outputs": [
    {
     "data": {
      "text/html": [
       "<div>\n",
       "<style scoped>\n",
       "    .dataframe tbody tr th:only-of-type {\n",
       "        vertical-align: middle;\n",
       "    }\n",
       "\n",
       "    .dataframe tbody tr th {\n",
       "        vertical-align: top;\n",
       "    }\n",
       "\n",
       "    .dataframe thead th {\n",
       "        text-align: right;\n",
       "    }\n",
       "</style>\n",
       "<table border=\"1\" class=\"dataframe\">\n",
       "  <thead>\n",
       "    <tr style=\"text-align: right;\">\n",
       "      <th></th>\n",
       "      <th>REGULAR</th>\n",
       "      <th>RETRO</th>\n",
       "      <th>OTHER</th>\n",
       "      <th>OVERTIME</th>\n",
       "      <th>INJURED</th>\n",
       "      <th>DETAIL</th>\n",
       "      <th>QUINN/EDUCATION INCENTIVE</th>\n",
       "      <th>TOTAL EARNINGS</th>\n",
       "    </tr>\n",
       "  </thead>\n",
       "  <tbody>\n",
       "    <tr>\n",
       "      <th>0</th>\n",
       "      <td>48.942225</td>\n",
       "      <td>9.489153</td>\n",
       "      <td>7.311559</td>\n",
       "      <td>5.625871</td>\n",
       "      <td>7.765386</td>\n",
       "      <td>14.726334</td>\n",
       "      <td>63.678644</td>\n",
       "      <td>47.964260</td>\n",
       "    </tr>\n",
       "    <tr>\n",
       "      <th>1</th>\n",
       "      <td>21.507463</td>\n",
       "      <td>9.489153</td>\n",
       "      <td>1.919201</td>\n",
       "      <td>1.068627</td>\n",
       "      <td>7.765386</td>\n",
       "      <td>14.726334</td>\n",
       "      <td>42.266215</td>\n",
       "      <td>16.945978</td>\n",
       "    </tr>\n",
       "    <tr>\n",
       "      <th>2</th>\n",
       "      <td>46.873844</td>\n",
       "      <td>9.489153</td>\n",
       "      <td>3.434198</td>\n",
       "      <td>20.047572</td>\n",
       "      <td>7.765386</td>\n",
       "      <td>17.086743</td>\n",
       "      <td>60.983628</td>\n",
       "      <td>56.023593</td>\n",
       "    </tr>\n",
       "    <tr>\n",
       "      <th>3</th>\n",
       "      <td>35.878487</td>\n",
       "      <td>17.385912</td>\n",
       "      <td>7.256796</td>\n",
       "      <td>58.961144</td>\n",
       "      <td>0.020329</td>\n",
       "      <td>12.464888</td>\n",
       "      <td>52.343987</td>\n",
       "      <td>64.251647</td>\n",
       "    </tr>\n",
       "    <tr>\n",
       "      <th>4</th>\n",
       "      <td>26.447199</td>\n",
       "      <td>9.489153</td>\n",
       "      <td>0.160171</td>\n",
       "      <td>5.495185</td>\n",
       "      <td>7.765386</td>\n",
       "      <td>14.726334</td>\n",
       "      <td>42.266215</td>\n",
       "      <td>21.367201</td>\n",
       "    </tr>\n",
       "  </tbody>\n",
       "</table>\n",
       "</div>"
      ],
      "text/plain": [
       "     REGULAR      RETRO     OTHER   OVERTIME   INJURED     DETAIL  \\\n",
       "0  48.942225   9.489153  7.311559   5.625871  7.765386  14.726334   \n",
       "1  21.507463   9.489153  1.919201   1.068627  7.765386  14.726334   \n",
       "2  46.873844   9.489153  3.434198  20.047572  7.765386  17.086743   \n",
       "3  35.878487  17.385912  7.256796  58.961144  0.020329  12.464888   \n",
       "4  26.447199   9.489153  0.160171   5.495185  7.765386  14.726334   \n",
       "\n",
       "   QUINN/EDUCATION INCENTIVE  TOTAL EARNINGS  \n",
       "0                  63.678644       47.964260  \n",
       "1                  42.266215       16.945978  \n",
       "2                  60.983628       56.023593  \n",
       "3                  52.343987       64.251647  \n",
       "4                  42.266215       21.367201  "
      ]
     },
     "execution_count": 64,
     "metadata": {},
     "output_type": "execute_result"
    }
   ],
   "source": [
    "# avec Pandas\n",
    "boston_0_100=boston_num.apply(lambda x : (x-x.min())/(x.max()-x.min())*100)\n",
    "boston_0_100.head()"
   ]
  },
  {
   "cell_type": "code",
   "execution_count": 65,
   "metadata": {},
   "outputs": [
    {
     "data": {
      "text/html": [
       "<div>\n",
       "<style scoped>\n",
       "    .dataframe tbody tr th:only-of-type {\n",
       "        vertical-align: middle;\n",
       "    }\n",
       "\n",
       "    .dataframe tbody tr th {\n",
       "        vertical-align: top;\n",
       "    }\n",
       "\n",
       "    .dataframe thead th {\n",
       "        text-align: right;\n",
       "    }\n",
       "</style>\n",
       "<table border=\"1\" class=\"dataframe\">\n",
       "  <thead>\n",
       "    <tr style=\"text-align: right;\">\n",
       "      <th></th>\n",
       "      <th>REGULAR</th>\n",
       "      <th>RETRO</th>\n",
       "      <th>OTHER</th>\n",
       "      <th>OVERTIME</th>\n",
       "      <th>INJURED</th>\n",
       "      <th>DETAIL</th>\n",
       "      <th>QUINN/EDUCATION INCENTIVE</th>\n",
       "      <th>TOTAL EARNINGS</th>\n",
       "    </tr>\n",
       "  </thead>\n",
       "  <tbody>\n",
       "    <tr>\n",
       "      <th>0</th>\n",
       "      <td>48.942225</td>\n",
       "      <td>9.489153</td>\n",
       "      <td>7.311559</td>\n",
       "      <td>5.625871</td>\n",
       "      <td>7.765386</td>\n",
       "      <td>14.726334</td>\n",
       "      <td>63.678644</td>\n",
       "      <td>47.964260</td>\n",
       "    </tr>\n",
       "    <tr>\n",
       "      <th>1</th>\n",
       "      <td>21.507463</td>\n",
       "      <td>9.489153</td>\n",
       "      <td>1.919201</td>\n",
       "      <td>1.068627</td>\n",
       "      <td>7.765386</td>\n",
       "      <td>14.726334</td>\n",
       "      <td>42.266215</td>\n",
       "      <td>16.945978</td>\n",
       "    </tr>\n",
       "    <tr>\n",
       "      <th>2</th>\n",
       "      <td>46.873844</td>\n",
       "      <td>9.489153</td>\n",
       "      <td>3.434198</td>\n",
       "      <td>20.047572</td>\n",
       "      <td>7.765386</td>\n",
       "      <td>17.086743</td>\n",
       "      <td>60.983628</td>\n",
       "      <td>56.023593</td>\n",
       "    </tr>\n",
       "    <tr>\n",
       "      <th>3</th>\n",
       "      <td>35.878487</td>\n",
       "      <td>17.385912</td>\n",
       "      <td>7.256796</td>\n",
       "      <td>58.961144</td>\n",
       "      <td>0.020329</td>\n",
       "      <td>12.464888</td>\n",
       "      <td>52.343987</td>\n",
       "      <td>64.251647</td>\n",
       "    </tr>\n",
       "    <tr>\n",
       "      <th>4</th>\n",
       "      <td>26.447199</td>\n",
       "      <td>9.489153</td>\n",
       "      <td>0.160171</td>\n",
       "      <td>5.495185</td>\n",
       "      <td>7.765386</td>\n",
       "      <td>14.726334</td>\n",
       "      <td>42.266215</td>\n",
       "      <td>21.367201</td>\n",
       "    </tr>\n",
       "  </tbody>\n",
       "</table>\n",
       "</div>"
      ],
      "text/plain": [
       "     REGULAR      RETRO     OTHER   OVERTIME   INJURED     DETAIL  \\\n",
       "0  48.942225   9.489153  7.311559   5.625871  7.765386  14.726334   \n",
       "1  21.507463   9.489153  1.919201   1.068627  7.765386  14.726334   \n",
       "2  46.873844   9.489153  3.434198  20.047572  7.765386  17.086743   \n",
       "3  35.878487  17.385912  7.256796  58.961144  0.020329  12.464888   \n",
       "4  26.447199   9.489153  0.160171   5.495185  7.765386  14.726334   \n",
       "\n",
       "   QUINN/EDUCATION INCENTIVE  TOTAL EARNINGS  \n",
       "0                  63.678644       47.964260  \n",
       "1                  42.266215       16.945978  \n",
       "2                  60.983628       56.023593  \n",
       "3                  52.343987       64.251647  \n",
       "4                  42.266215       21.367201  "
      ]
     },
     "execution_count": 65,
     "metadata": {},
     "output_type": "execute_result"
    }
   ],
   "source": [
    "# avec Scikit-Learn\n",
    "from sklearn.preprocessing import MinMaxScaler\n",
    "minmaxscaler=MinMaxScaler((0,100))\n",
    "boston_0_100=minmaxscaler.fit_transform(boston_num)\n",
    "boston_0_100=pd.DataFrame(boston_0_100, index=boston_num.index, columns=boston_num.columns)\n",
    "boston_0_100.head()"
   ]
  },
  {
   "cell_type": "markdown",
   "metadata": {},
   "source": [
    "#### Transformation de Box-Cox\n",
    "Lorsque vous désirez obtenir des données suivant une loi normale, vous risquez d’avoir besoin d’une transformation qui permette de se rapprocher de cette loi.\n",
    "\n",
    "La transformation de Box-Cox est une transformation qui peut gérer ce problème.\n",
    "\n",
    "Elle ne s’applique qu’à des données positives. Celle-ci est disponible dans le package SciPy et s’utilise de la manière suivante :"
   ]
  },
  {
   "cell_type": "code",
   "execution_count": 66,
   "metadata": {},
   "outputs": [],
   "source": [
    "from scipy import stats\n",
    "total_earning_trans=stats.boxcox(boston_num[\"TOTAL EARNINGS\"])"
   ]
  },
  {
   "cell_type": "markdown",
   "metadata": {},
   "source": [
    "### 4.3.11 Echantillonnage des données\n",
    "\n",
    "Nous allons présenter deux approches d’échantillonnage :\n",
    "\n",
    "- l'échantillonnage aléatoire sans remise,\n",
    "- l'échantillonnage stratifié.\n",
    "\n",
    "Pandas propose une méthode d’échantillonnage simple à mettre en oeuvre, il s’agit de la méthode sample.\n",
    "Si on désire échantillonner aléatoirement 1000 lignes de notre base Boston, on utilisera :"
   ]
  },
  {
   "cell_type": "code",
   "execution_count": 67,
   "metadata": {},
   "outputs": [
    {
     "data": {
      "text/plain": [
       "(1000, 12)"
      ]
     },
     "execution_count": 67,
     "metadata": {},
     "output_type": "execute_result"
    }
   ],
   "source": [
    "boston_aleat_1000=boston.sample(n=1000)\n",
    "boston_aleat_1000.shape"
   ]
  },
  {
   "cell_type": "markdown",
   "metadata": {},
   "source": [
    "On peut se servir du paramètre frac = si on désire obtenir un échantillon de la taille d’une fraction du jeu de données initial.\n",
    "\n",
    "L’échantillonnage stratifié consiste à reproduire dans vos échantillons les mêmes répartitions de certaines variables que dans l’échantillon initial.\n",
    "\n",
    "Il peut se faire avec Pandas ou avec Scikit-Learn. On utilisera dans ce cas le listing des logements disponibles à Paris. \n",
    "\n",
    "Si nous voulons échantillonner 10 % des logements en conservant la répartition du type de chambre (room_type), on utilisera :"
   ]
  },
  {
   "cell_type": "code",
   "execution_count": 68,
   "metadata": {},
   "outputs": [
    {
     "data": {
      "text/plain": [
       "Entire home/apt    0.8658\n",
       "Private room       0.1246\n",
       "Shared room        0.0096\n",
       "Name: room_type, dtype: float64"
      ]
     },
     "execution_count": 68,
     "metadata": {},
     "output_type": "execute_result"
    }
   ],
   "source": [
    "# répartition dans l’échantillon initial\n",
    "listing[\"room_type\"].value_counts(normalize=True)"
   ]
  },
  {
   "cell_type": "code",
   "execution_count": 69,
   "metadata": {},
   "outputs": [
    {
     "data": {
      "text/plain": [
       "Entire home/apt    0.866\n",
       "Private room       0.124\n",
       "Shared room        0.010\n",
       "Name: room_type, dtype: float64"
      ]
     },
     "execution_count": 69,
     "metadata": {},
     "output_type": "execute_result"
    }
   ],
   "source": [
    "# échantillonnage stratifié\n",
    "listing_sample=listing.groupby('room_type').apply(lambda x : x.sample(frac=.1))\n",
    "# repartition dans l’échantillon final\n",
    "listing_sample[\"room_type\"].value_counts(normalize=True)"
   ]
  },
  {
   "cell_type": "markdown",
   "metadata": {},
   "source": [
    "### 4.3.12 La construction de tableaux croisés\n",
    "\n",
    "Les tableaux croisés peuvent être très utiles pour visualiser des croisements de colonnes de variables qualitatives et les intégrer dans d’autres calculs.\n",
    "Deux fonctions dans Pandas sont utiles : la méthode frame.pivot_table() et la fonction pd.crosstab().\n",
    "\n",
    "La seule différence entre ces deux approches réside dans les données qui sont acceptées dans chaque fonction. Pour pivot_table, sachant que c’est une méthode\n",
    "appliquée à un DataFrame, toutes les données doivent venir de ce DataFrame. La fonction crosstab est différente, elle peut prendre en entrée des données issues\n",
    "de plusieurs DataFrame ou d’arrays.\n",
    "\n",
    "Si nous reprenons nos données AirBnB et que nous désirons croiser deux colonnes,\n",
    "nous allons utiliser :"
   ]
  },
  {
   "cell_type": "code",
   "execution_count": 70,
   "metadata": {},
   "outputs": [
    {
     "data": {
      "text/html": [
       "<div>\n",
       "<style scoped>\n",
       "    .dataframe tbody tr th:only-of-type {\n",
       "        vertical-align: middle;\n",
       "    }\n",
       "\n",
       "    .dataframe tbody tr th {\n",
       "        vertical-align: top;\n",
       "    }\n",
       "\n",
       "    .dataframe thead th {\n",
       "        text-align: right;\n",
       "    }\n",
       "</style>\n",
       "<table border=\"1\" class=\"dataframe\">\n",
       "  <thead>\n",
       "    <tr style=\"text-align: right;\">\n",
       "      <th>room_type</th>\n",
       "      <th>Entire home/apt</th>\n",
       "      <th>Private room</th>\n",
       "      <th>Shared room</th>\n",
       "    </tr>\n",
       "    <tr>\n",
       "      <th>instant_bookable</th>\n",
       "      <th></th>\n",
       "      <th></th>\n",
       "      <th></th>\n",
       "    </tr>\n",
       "  </thead>\n",
       "  <tbody>\n",
       "    <tr>\n",
       "      <th>f</th>\n",
       "      <td>3171</td>\n",
       "      <td>467</td>\n",
       "      <td>33</td>\n",
       "    </tr>\n",
       "    <tr>\n",
       "      <th>t</th>\n",
       "      <td>1158</td>\n",
       "      <td>156</td>\n",
       "      <td>15</td>\n",
       "    </tr>\n",
       "  </tbody>\n",
       "</table>\n",
       "</div>"
      ],
      "text/plain": [
       "room_type         Entire home/apt  Private room  Shared room\n",
       "instant_bookable                                            \n",
       "f                            3171           467           33\n",
       "t                            1158           156           15"
      ]
     },
     "execution_count": 70,
     "metadata": {},
     "output_type": "execute_result"
    }
   ],
   "source": [
    "pd.crosstab(listing['instant_bookable'], listing['room_type'])"
   ]
  },
  {
   "cell_type": "markdown",
   "metadata": {},
   "source": [
    "Par défaut, cet outil inclut des comptages dans le tableau. Mais si on désirait afficher la moyenne du prix des logements, on utiliserait :"
   ]
  },
  {
   "cell_type": "code",
   "execution_count": 71,
   "metadata": {},
   "outputs": [
    {
     "data": {
      "text/html": [
       "<div>\n",
       "<style scoped>\n",
       "    .dataframe tbody tr th:only-of-type {\n",
       "        vertical-align: middle;\n",
       "    }\n",
       "\n",
       "    .dataframe tbody tr th {\n",
       "        vertical-align: top;\n",
       "    }\n",
       "\n",
       "    .dataframe thead th {\n",
       "        text-align: right;\n",
       "    }\n",
       "</style>\n",
       "<table border=\"1\" class=\"dataframe\">\n",
       "  <thead>\n",
       "    <tr style=\"text-align: right;\">\n",
       "      <th>room_type</th>\n",
       "      <th>Entire home/apt</th>\n",
       "      <th>Private room</th>\n",
       "      <th>Shared room</th>\n",
       "    </tr>\n",
       "    <tr>\n",
       "      <th>instant_bookable</th>\n",
       "      <th></th>\n",
       "      <th></th>\n",
       "      <th></th>\n",
       "    </tr>\n",
       "  </thead>\n",
       "  <tbody>\n",
       "    <tr>\n",
       "      <th>f</th>\n",
       "      <td>101.094292</td>\n",
       "      <td>68.184154</td>\n",
       "      <td>40.878788</td>\n",
       "    </tr>\n",
       "    <tr>\n",
       "      <th>t</th>\n",
       "      <td>107.669257</td>\n",
       "      <td>68.467949</td>\n",
       "      <td>36.866667</td>\n",
       "    </tr>\n",
       "  </tbody>\n",
       "</table>\n",
       "</div>"
      ],
      "text/plain": [
       "room_type         Entire home/apt  Private room  Shared room\n",
       "instant_bookable                                            \n",
       "f                      101.094292     68.184154    40.878788\n",
       "t                      107.669257     68.467949    36.866667"
      ]
     },
     "execution_count": 71,
     "metadata": {},
     "output_type": "execute_result"
    }
   ],
   "source": [
    "pd.crosstab(listing['instant_bookable'], listing['room_type'],\n",
    "            values=listing['price'],\n",
    "            aggfunc=\"mean\")"
   ]
  },
  {
   "cell_type": "code",
   "execution_count": 72,
   "metadata": {},
   "outputs": [
    {
     "data": {
      "text/html": [
       "<div>\n",
       "<style scoped>\n",
       "    .dataframe tbody tr th:only-of-type {\n",
       "        vertical-align: middle;\n",
       "    }\n",
       "\n",
       "    .dataframe tbody tr th {\n",
       "        vertical-align: top;\n",
       "    }\n",
       "\n",
       "    .dataframe thead th {\n",
       "        text-align: right;\n",
       "    }\n",
       "</style>\n",
       "<table border=\"1\" class=\"dataframe\">\n",
       "  <thead>\n",
       "    <tr style=\"text-align: right;\">\n",
       "      <th>room_type</th>\n",
       "      <th>Entire home/apt</th>\n",
       "      <th>Private room</th>\n",
       "      <th>Shared room</th>\n",
       "    </tr>\n",
       "    <tr>\n",
       "      <th>instant_bookable</th>\n",
       "      <th></th>\n",
       "      <th></th>\n",
       "      <th></th>\n",
       "    </tr>\n",
       "  </thead>\n",
       "  <tbody>\n",
       "    <tr>\n",
       "      <th>f</th>\n",
       "      <td>101.094292</td>\n",
       "      <td>68.184154</td>\n",
       "      <td>40.878788</td>\n",
       "    </tr>\n",
       "    <tr>\n",
       "      <th>t</th>\n",
       "      <td>107.669257</td>\n",
       "      <td>68.467949</td>\n",
       "      <td>36.866667</td>\n",
       "    </tr>\n",
       "  </tbody>\n",
       "</table>\n",
       "</div>"
      ],
      "text/plain": [
       "room_type         Entire home/apt  Private room  Shared room\n",
       "instant_bookable                                            \n",
       "f                      101.094292     68.184154    40.878788\n",
       "t                      107.669257     68.467949    36.866667"
      ]
     },
     "execution_count": 72,
     "metadata": {},
     "output_type": "execute_result"
    }
   ],
   "source": [
    "listing.pivot_table(values='price', \n",
    "                    index='instant_bookable', \n",
    "                    columns='room_type',\n",
    "                    aggfunc='mean')"
   ]
  },
  {
   "cell_type": "markdown",
   "metadata": {},
   "source": [
    "On peut aller plus loin en combinant plusieurs variables et en combinant plusieurs statistiques dans le tableau :"
   ]
  },
  {
   "cell_type": "code",
   "execution_count": 73,
   "metadata": {},
   "outputs": [
    {
     "data": {
      "text/html": [
       "<div>\n",
       "<style scoped>\n",
       "    .dataframe tbody tr th:only-of-type {\n",
       "        vertical-align: middle;\n",
       "    }\n",
       "\n",
       "    .dataframe tbody tr th {\n",
       "        vertical-align: top;\n",
       "    }\n",
       "\n",
       "    .dataframe thead tr th {\n",
       "        text-align: left;\n",
       "    }\n",
       "\n",
       "    .dataframe thead tr:last-of-type th {\n",
       "        text-align: right;\n",
       "    }\n",
       "</style>\n",
       "<table border=\"1\" class=\"dataframe\">\n",
       "  <thead>\n",
       "    <tr>\n",
       "      <th></th>\n",
       "      <th></th>\n",
       "      <th colspan=\"3\" halign=\"left\">mean</th>\n",
       "      <th colspan=\"3\" halign=\"left\">count</th>\n",
       "    </tr>\n",
       "    <tr>\n",
       "      <th></th>\n",
       "      <th>room_type</th>\n",
       "      <th>Entire home/apt</th>\n",
       "      <th>Private room</th>\n",
       "      <th>Shared room</th>\n",
       "      <th>Entire home/apt</th>\n",
       "      <th>Private room</th>\n",
       "      <th>Shared room</th>\n",
       "    </tr>\n",
       "    <tr>\n",
       "      <th>is_business_travel_ready</th>\n",
       "      <th>instant_bookable</th>\n",
       "      <th></th>\n",
       "      <th></th>\n",
       "      <th></th>\n",
       "      <th></th>\n",
       "      <th></th>\n",
       "      <th></th>\n",
       "    </tr>\n",
       "  </thead>\n",
       "  <tbody>\n",
       "    <tr>\n",
       "      <th rowspan=\"2\" valign=\"top\">f</th>\n",
       "      <th>f</th>\n",
       "      <td>100.346267</td>\n",
       "      <td>68.184154</td>\n",
       "      <td>40.878788</td>\n",
       "      <td>3067.0</td>\n",
       "      <td>467.0</td>\n",
       "      <td>33.0</td>\n",
       "    </tr>\n",
       "    <tr>\n",
       "      <th>t</th>\n",
       "      <td>105.421632</td>\n",
       "      <td>68.467949</td>\n",
       "      <td>36.866667</td>\n",
       "      <td>1091.0</td>\n",
       "      <td>156.0</td>\n",
       "      <td>15.0</td>\n",
       "    </tr>\n",
       "    <tr>\n",
       "      <th rowspan=\"2\" valign=\"top\">t</th>\n",
       "      <th>f</th>\n",
       "      <td>123.153846</td>\n",
       "      <td>NaN</td>\n",
       "      <td>NaN</td>\n",
       "      <td>104.0</td>\n",
       "      <td>NaN</td>\n",
       "      <td>NaN</td>\n",
       "    </tr>\n",
       "    <tr>\n",
       "      <th>t</th>\n",
       "      <td>144.268657</td>\n",
       "      <td>NaN</td>\n",
       "      <td>NaN</td>\n",
       "      <td>67.0</td>\n",
       "      <td>NaN</td>\n",
       "      <td>NaN</td>\n",
       "    </tr>\n",
       "  </tbody>\n",
       "</table>\n",
       "</div>"
      ],
      "text/plain": [
       "                                                     mean               \\\n",
       "room_type                                 Entire home/apt Private room   \n",
       "is_business_travel_ready instant_bookable                                \n",
       "f                        f                     100.346267    68.184154   \n",
       "                         t                     105.421632    68.467949   \n",
       "t                        f                     123.153846          NaN   \n",
       "                         t                     144.268657          NaN   \n",
       "\n",
       "                                                                count  \\\n",
       "room_type                                 Shared room Entire home/apt   \n",
       "is_business_travel_ready instant_bookable                               \n",
       "f                        f                  40.878788          3067.0   \n",
       "                         t                  36.866667          1091.0   \n",
       "t                        f                        NaN           104.0   \n",
       "                         t                        NaN            67.0   \n",
       "\n",
       "                                                                    \n",
       "room_type                                 Private room Shared room  \n",
       "is_business_travel_ready instant_bookable                           \n",
       "f                        f                       467.0        33.0  \n",
       "                         t                       156.0        15.0  \n",
       "t                        f                         NaN         NaN  \n",
       "                         t                         NaN         NaN  "
      ]
     },
     "execution_count": 73,
     "metadata": {},
     "output_type": "execute_result"
    }
   ],
   "source": [
    "listing.pivot_table(values='price',\n",
    "                    index=['is_business_travel_ready','instant_bookable'],\n",
    "                    columns='room_type', \n",
    "                    aggfunc=['mean','count'])"
   ]
  },
  {
   "cell_type": "markdown",
   "metadata": {},
   "source": [
    "## 4.4 Extraire des statistiques descriptives\n",
    "\n",
    "### 4.4.1 Statistiques pour données quantitatives\n",
    "\n",
    "Lorsqu'on calcule des statistiques descriptives spécifiques aux données quantitatives sur un DataFrame complet, Pandas n’affiche des résultats que pour les variables quantitatives (sans message d’erreur pour les colonnes non quantitatives).\n",
    "\n",
    "Statistiques descriptives de base\n",
    "Quelques méthodes statistiques universelles de Pandas :"
   ]
  },
  {
   "cell_type": "code",
   "execution_count": 74,
   "metadata": {},
   "outputs": [
    {
     "data": {
      "text/plain": [
       "REGULAR                      61455.764284\n",
       "RETRO                         2722.555034\n",
       "OTHER                         3875.576450\n",
       "OVERTIME                     15761.125615\n",
       "INJURED                      22166.982634\n",
       "DETAIL                       19292.675939\n",
       "QUINN/EDUCATION INCENTIVE    16133.739261\n",
       "TOTAL EARNINGS               71517.447431\n",
       "dtype: float64"
      ]
     },
     "execution_count": 74,
     "metadata": {},
     "output_type": "execute_result"
    }
   ],
   "source": [
    "# moyenne\n",
    "boston.mean()"
   ]
  },
  {
   "cell_type": "code",
   "execution_count": 75,
   "metadata": {},
   "outputs": [
    {
     "data": {
      "text/plain": [
       "REGULAR                      1.353779e+09\n",
       "RETRO                        1.545119e+06\n",
       "OTHER                        4.640917e+07\n",
       "OVERTIME                     1.040817e+08\n",
       "INJURED                      5.092599e+07\n",
       "DETAIL                       5.127755e+07\n",
       "QUINN/EDUCATION INCENTIVE    1.403539e+06\n",
       "TOTAL EARNINGS               2.614014e+09\n",
       "dtype: float64"
      ]
     },
     "execution_count": 75,
     "metadata": {},
     "output_type": "execute_result"
    }
   ],
   "source": [
    "# variance\n",
    "boston.var()"
   ]
  },
  {
   "cell_type": "code",
   "execution_count": 76,
   "metadata": {},
   "outputs": [
    {
     "data": {
      "text/plain": [
       "REGULAR                      36793.733234\n",
       "RETRO                         1243.028295\n",
       "OTHER                         6812.427267\n",
       "OVERTIME                     10202.043674\n",
       "INJURED                       7136.245092\n",
       "DETAIL                        7160.834192\n",
       "QUINN/EDUCATION INCENTIVE     1184.710373\n",
       "TOTAL EARNINGS               51127.428966\n",
       "dtype: float64"
      ]
     },
     "execution_count": 76,
     "metadata": {},
     "output_type": "execute_result"
    }
   ],
   "source": [
    "# écart-type\n",
    "boston.std()"
   ]
  },
  {
   "cell_type": "code",
   "execution_count": 77,
   "metadata": {},
   "outputs": [
    {
     "data": {
      "text/plain": [
       "REGULAR                      61455.764284\n",
       "RETRO                         2722.555034\n",
       "OTHER                         3875.576450\n",
       "OVERTIME                     15761.125615\n",
       "INJURED                      22166.982634\n",
       "DETAIL                       19292.675939\n",
       "QUINN/EDUCATION INCENTIVE    16133.739261\n",
       "TOTAL EARNINGS               66218.240000\n",
       "dtype: float64"
      ]
     },
     "execution_count": 77,
     "metadata": {},
     "output_type": "execute_result"
    }
   ],
   "source": [
    "# médiane\n",
    "boston.median()"
   ]
  },
  {
   "cell_type": "code",
   "execution_count": 78,
   "metadata": {},
   "outputs": [
    {
     "data": {
      "text/html": [
       "<div>\n",
       "<style scoped>\n",
       "    .dataframe tbody tr th:only-of-type {\n",
       "        vertical-align: middle;\n",
       "    }\n",
       "\n",
       "    .dataframe tbody tr th {\n",
       "        vertical-align: top;\n",
       "    }\n",
       "\n",
       "    .dataframe thead th {\n",
       "        text-align: right;\n",
       "    }\n",
       "</style>\n",
       "<table border=\"1\" class=\"dataframe\">\n",
       "  <thead>\n",
       "    <tr style=\"text-align: right;\">\n",
       "      <th></th>\n",
       "      <th>REGULAR</th>\n",
       "      <th>RETRO</th>\n",
       "      <th>OTHER</th>\n",
       "      <th>OVERTIME</th>\n",
       "      <th>INJURED</th>\n",
       "      <th>DETAIL</th>\n",
       "      <th>QUINN/EDUCATION INCENTIVE</th>\n",
       "      <th>TOTAL EARNINGS</th>\n",
       "    </tr>\n",
       "  </thead>\n",
       "  <tbody>\n",
       "    <tr>\n",
       "      <th>REGULAR</th>\n",
       "      <td>1.000000</td>\n",
       "      <td>0.151931</td>\n",
       "      <td>-0.003753</td>\n",
       "      <td>0.213226</td>\n",
       "      <td>-0.088766</td>\n",
       "      <td>0.013835</td>\n",
       "      <td>0.109378</td>\n",
       "      <td>0.868466</td>\n",
       "    </tr>\n",
       "    <tr>\n",
       "      <th>RETRO</th>\n",
       "      <td>0.151931</td>\n",
       "      <td>1.000000</td>\n",
       "      <td>0.053184</td>\n",
       "      <td>0.401342</td>\n",
       "      <td>-0.033370</td>\n",
       "      <td>0.039013</td>\n",
       "      <td>0.016559</td>\n",
       "      <td>0.293904</td>\n",
       "    </tr>\n",
       "    <tr>\n",
       "      <th>OTHER</th>\n",
       "      <td>-0.003753</td>\n",
       "      <td>0.053184</td>\n",
       "      <td>1.000000</td>\n",
       "      <td>0.097863</td>\n",
       "      <td>0.070013</td>\n",
       "      <td>0.024574</td>\n",
       "      <td>0.016010</td>\n",
       "      <td>0.126975</td>\n",
       "    </tr>\n",
       "    <tr>\n",
       "      <th>OVERTIME</th>\n",
       "      <td>0.213226</td>\n",
       "      <td>0.401342</td>\n",
       "      <td>0.097863</td>\n",
       "      <td>1.000000</td>\n",
       "      <td>-0.043067</td>\n",
       "      <td>0.080187</td>\n",
       "      <td>0.159767</td>\n",
       "      <td>0.454531</td>\n",
       "    </tr>\n",
       "    <tr>\n",
       "      <th>INJURED</th>\n",
       "      <td>-0.088766</td>\n",
       "      <td>-0.033370</td>\n",
       "      <td>0.070013</td>\n",
       "      <td>-0.043067</td>\n",
       "      <td>1.000000</td>\n",
       "      <td>-0.006834</td>\n",
       "      <td>0.019239</td>\n",
       "      <td>0.007562</td>\n",
       "    </tr>\n",
       "    <tr>\n",
       "      <th>DETAIL</th>\n",
       "      <td>0.013835</td>\n",
       "      <td>0.039013</td>\n",
       "      <td>0.024574</td>\n",
       "      <td>0.080187</td>\n",
       "      <td>-0.006834</td>\n",
       "      <td>1.000000</td>\n",
       "      <td>0.038830</td>\n",
       "      <td>0.178945</td>\n",
       "    </tr>\n",
       "    <tr>\n",
       "      <th>QUINN/EDUCATION INCENTIVE</th>\n",
       "      <td>0.109378</td>\n",
       "      <td>0.016559</td>\n",
       "      <td>0.016010</td>\n",
       "      <td>0.159767</td>\n",
       "      <td>0.019239</td>\n",
       "      <td>0.038830</td>\n",
       "      <td>1.000000</td>\n",
       "      <td>0.137591</td>\n",
       "    </tr>\n",
       "    <tr>\n",
       "      <th>TOTAL EARNINGS</th>\n",
       "      <td>0.868466</td>\n",
       "      <td>0.293904</td>\n",
       "      <td>0.126975</td>\n",
       "      <td>0.454531</td>\n",
       "      <td>0.007562</td>\n",
       "      <td>0.178945</td>\n",
       "      <td>0.137591</td>\n",
       "      <td>1.000000</td>\n",
       "    </tr>\n",
       "  </tbody>\n",
       "</table>\n",
       "</div>"
      ],
      "text/plain": [
       "                            REGULAR     RETRO     OTHER  OVERTIME   INJURED  \\\n",
       "REGULAR                    1.000000  0.151931 -0.003753  0.213226 -0.088766   \n",
       "RETRO                      0.151931  1.000000  0.053184  0.401342 -0.033370   \n",
       "OTHER                     -0.003753  0.053184  1.000000  0.097863  0.070013   \n",
       "OVERTIME                   0.213226  0.401342  0.097863  1.000000 -0.043067   \n",
       "INJURED                   -0.088766 -0.033370  0.070013 -0.043067  1.000000   \n",
       "DETAIL                     0.013835  0.039013  0.024574  0.080187 -0.006834   \n",
       "QUINN/EDUCATION INCENTIVE  0.109378  0.016559  0.016010  0.159767  0.019239   \n",
       "TOTAL EARNINGS             0.868466  0.293904  0.126975  0.454531  0.007562   \n",
       "\n",
       "                             DETAIL  QUINN/EDUCATION INCENTIVE  TOTAL EARNINGS  \n",
       "REGULAR                    0.013835                   0.109378        0.868466  \n",
       "RETRO                      0.039013                   0.016559        0.293904  \n",
       "OTHER                      0.024574                   0.016010        0.126975  \n",
       "OVERTIME                   0.080187                   0.159767        0.454531  \n",
       "INJURED                   -0.006834                   0.019239        0.007562  \n",
       "DETAIL                     1.000000                   0.038830        0.178945  \n",
       "QUINN/EDUCATION INCENTIVE  0.038830                   1.000000        0.137591  \n",
       "TOTAL EARNINGS             0.178945                   0.137591        1.000000  "
      ]
     },
     "execution_count": 78,
     "metadata": {},
     "output_type": "execute_result"
    }
   ],
   "source": [
    "# matrice de corrélation\n",
    "boston.corr()"
   ]
  },
  {
   "cell_type": "markdown",
   "metadata": {},
   "source": [
    "Une autre fonction intéressante est la méthode .describe() qui affiche un certain nombre de statistiques pour les variables quantitatives (elle ne fait que cela par défaut mais nous verrons plus loin qu’elle peut s’appliquer aux variables qualitatives)."
   ]
  },
  {
   "cell_type": "code",
   "execution_count": 79,
   "metadata": {},
   "outputs": [
    {
     "data": {
      "text/html": [
       "<div>\n",
       "<style scoped>\n",
       "    .dataframe tbody tr th:only-of-type {\n",
       "        vertical-align: middle;\n",
       "    }\n",
       "\n",
       "    .dataframe tbody tr th {\n",
       "        vertical-align: top;\n",
       "    }\n",
       "\n",
       "    .dataframe thead th {\n",
       "        text-align: right;\n",
       "    }\n",
       "</style>\n",
       "<table border=\"1\" class=\"dataframe\">\n",
       "  <thead>\n",
       "    <tr style=\"text-align: right;\">\n",
       "      <th></th>\n",
       "      <th>REGULAR</th>\n",
       "      <th>RETRO</th>\n",
       "      <th>OTHER</th>\n",
       "      <th>OVERTIME</th>\n",
       "      <th>INJURED</th>\n",
       "      <th>DETAIL</th>\n",
       "      <th>QUINN/EDUCATION INCENTIVE</th>\n",
       "      <th>TOTAL EARNINGS</th>\n",
       "    </tr>\n",
       "  </thead>\n",
       "  <tbody>\n",
       "    <tr>\n",
       "      <th>count</th>\n",
       "      <td>22245.000000</td>\n",
       "      <td>22245.000000</td>\n",
       "      <td>22245.000000</td>\n",
       "      <td>22245.000000</td>\n",
       "      <td>22245.000000</td>\n",
       "      <td>22245.000000</td>\n",
       "      <td>22245.000000</td>\n",
       "      <td>22245.000000</td>\n",
       "    </tr>\n",
       "    <tr>\n",
       "      <th>mean</th>\n",
       "      <td>61455.764284</td>\n",
       "      <td>2722.555034</td>\n",
       "      <td>3875.576450</td>\n",
       "      <td>15761.125615</td>\n",
       "      <td>22166.982634</td>\n",
       "      <td>19292.675939</td>\n",
       "      <td>16133.739261</td>\n",
       "      <td>71517.447431</td>\n",
       "    </tr>\n",
       "    <tr>\n",
       "      <th>std</th>\n",
       "      <td>36793.733234</td>\n",
       "      <td>1243.028295</td>\n",
       "      <td>6812.427267</td>\n",
       "      <td>10202.043674</td>\n",
       "      <td>7136.245092</td>\n",
       "      <td>7160.834192</td>\n",
       "      <td>1184.710373</td>\n",
       "      <td>51127.428966</td>\n",
       "    </tr>\n",
       "    <tr>\n",
       "      <th>min</th>\n",
       "      <td>0.000000</td>\n",
       "      <td>3.500000</td>\n",
       "      <td>0.000000</td>\n",
       "      <td>0.000000</td>\n",
       "      <td>0.000000</td>\n",
       "      <td>0.000000</td>\n",
       "      <td>40.210000</td>\n",
       "      <td>3.500000</td>\n",
       "    </tr>\n",
       "    <tr>\n",
       "      <th>25%</th>\n",
       "      <td>30823.270000</td>\n",
       "      <td>2722.555034</td>\n",
       "      <td>850.000000</td>\n",
       "      <td>15761.125615</td>\n",
       "      <td>22166.982634</td>\n",
       "      <td>19292.675939</td>\n",
       "      <td>16133.739261</td>\n",
       "      <td>30160.550000</td>\n",
       "    </tr>\n",
       "    <tr>\n",
       "      <th>50%</th>\n",
       "      <td>61455.764284</td>\n",
       "      <td>2722.555034</td>\n",
       "      <td>3875.576450</td>\n",
       "      <td>15761.125615</td>\n",
       "      <td>22166.982634</td>\n",
       "      <td>19292.675939</td>\n",
       "      <td>16133.739261</td>\n",
       "      <td>66218.240000</td>\n",
       "    </tr>\n",
       "    <tr>\n",
       "      <th>75%</th>\n",
       "      <td>92969.550000</td>\n",
       "      <td>2722.555034</td>\n",
       "      <td>3875.576450</td>\n",
       "      <td>15761.125615</td>\n",
       "      <td>22166.982634</td>\n",
       "      <td>19292.675939</td>\n",
       "      <td>16133.739261</td>\n",
       "      <td>102602.380000</td>\n",
       "    </tr>\n",
       "    <tr>\n",
       "      <th>max</th>\n",
       "      <td>264660.690000</td>\n",
       "      <td>28657.850000</td>\n",
       "      <td>187299.320000</td>\n",
       "      <td>144873.750000</td>\n",
       "      <td>285458.880000</td>\n",
       "      <td>131008.000000</td>\n",
       "      <td>38116.790000</td>\n",
       "      <td>366232.650000</td>\n",
       "    </tr>\n",
       "  </tbody>\n",
       "</table>\n",
       "</div>"
      ],
      "text/plain": [
       "             REGULAR         RETRO          OTHER       OVERTIME  \\\n",
       "count   22245.000000  22245.000000   22245.000000   22245.000000   \n",
       "mean    61455.764284   2722.555034    3875.576450   15761.125615   \n",
       "std     36793.733234   1243.028295    6812.427267   10202.043674   \n",
       "min         0.000000      3.500000       0.000000       0.000000   \n",
       "25%     30823.270000   2722.555034     850.000000   15761.125615   \n",
       "50%     61455.764284   2722.555034    3875.576450   15761.125615   \n",
       "75%     92969.550000   2722.555034    3875.576450   15761.125615   \n",
       "max    264660.690000  28657.850000  187299.320000  144873.750000   \n",
       "\n",
       "             INJURED         DETAIL  QUINN/EDUCATION INCENTIVE  TOTAL EARNINGS  \n",
       "count   22245.000000   22245.000000               22245.000000    22245.000000  \n",
       "mean    22166.982634   19292.675939               16133.739261    71517.447431  \n",
       "std      7136.245092    7160.834192                1184.710373    51127.428966  \n",
       "min         0.000000       0.000000                  40.210000        3.500000  \n",
       "25%     22166.982634   19292.675939               16133.739261    30160.550000  \n",
       "50%     22166.982634   19292.675939               16133.739261    66218.240000  \n",
       "75%     22166.982634   19292.675939               16133.739261   102602.380000  \n",
       "max    285458.880000  131008.000000               38116.790000   366232.650000  "
      ]
     },
     "execution_count": 79,
     "metadata": {},
     "output_type": "execute_result"
    }
   ],
   "source": [
    "boston.describe()"
   ]
  },
  {
   "cell_type": "markdown",
   "metadata": {},
   "source": [
    "Si vous voulez construire votre propre DataFrame de statistiques, vous pouvez utiliser la méthode .agg(). Par exemple :"
   ]
  },
  {
   "cell_type": "code",
   "execution_count": 80,
   "metadata": {},
   "outputs": [
    {
     "data": {
      "text/html": [
       "<div>\n",
       "<style scoped>\n",
       "    .dataframe tbody tr th:only-of-type {\n",
       "        vertical-align: middle;\n",
       "    }\n",
       "\n",
       "    .dataframe tbody tr th {\n",
       "        vertical-align: top;\n",
       "    }\n",
       "\n",
       "    .dataframe thead th {\n",
       "        text-align: right;\n",
       "    }\n",
       "</style>\n",
       "<table border=\"1\" class=\"dataframe\">\n",
       "  <thead>\n",
       "    <tr style=\"text-align: right;\">\n",
       "      <th></th>\n",
       "      <th>REGULAR</th>\n",
       "      <th>RETRO</th>\n",
       "      <th>OTHER</th>\n",
       "      <th>OVERTIME</th>\n",
       "      <th>INJURED</th>\n",
       "      <th>DETAIL</th>\n",
       "      <th>QUINN/EDUCATION INCENTIVE</th>\n",
       "      <th>TOTAL EARNINGS</th>\n",
       "    </tr>\n",
       "  </thead>\n",
       "  <tbody>\n",
       "    <tr>\n",
       "      <th>mean</th>\n",
       "      <td>61455.764284</td>\n",
       "      <td>2722.555034</td>\n",
       "      <td>3875.576450</td>\n",
       "      <td>15761.125615</td>\n",
       "      <td>22166.982634</td>\n",
       "      <td>19292.675939</td>\n",
       "      <td>16133.739261</td>\n",
       "      <td>71517.447431</td>\n",
       "    </tr>\n",
       "    <tr>\n",
       "      <th>std</th>\n",
       "      <td>36793.733234</td>\n",
       "      <td>1243.028295</td>\n",
       "      <td>6812.427267</td>\n",
       "      <td>10202.043674</td>\n",
       "      <td>7136.245092</td>\n",
       "      <td>7160.834192</td>\n",
       "      <td>1184.710373</td>\n",
       "      <td>51127.428966</td>\n",
       "    </tr>\n",
       "  </tbody>\n",
       "</table>\n",
       "</div>"
      ],
      "text/plain": [
       "           REGULAR        RETRO        OTHER      OVERTIME       INJURED  \\\n",
       "mean  61455.764284  2722.555034  3875.576450  15761.125615  22166.982634   \n",
       "std   36793.733234  1243.028295  6812.427267  10202.043674   7136.245092   \n",
       "\n",
       "            DETAIL  QUINN/EDUCATION INCENTIVE  TOTAL EARNINGS  \n",
       "mean  19292.675939               16133.739261    71517.447431  \n",
       "std    7160.834192                1184.710373    51127.428966  "
      ]
     },
     "execution_count": 80,
     "metadata": {},
     "output_type": "execute_result"
    }
   ],
   "source": [
    "boston.agg([\"mean\",\"std\"])"
   ]
  },
  {
   "cell_type": "markdown",
   "metadata": {},
   "source": [
    "#### Des statistiques plus avancées\n",
    "Il peut arriver que des statistiques plus avancées soient nécessaires, notamment en se basant sur des distributions de probabilités. Pour cela, on utilisera plutôt le\n",
    "package SciPy et plus précisément scipy.stats qui possède de nombreuses statistiques importantes.\n",
    "\n",
    "Par exemple, on peut calculer l’asymétrie d’une distribution (skewness) en utilisant :"
   ]
  },
  {
   "cell_type": "code",
   "execution_count": 81,
   "metadata": {},
   "outputs": [
    {
     "data": {
      "text/plain": [
       "9.948874039832083"
      ]
     },
     "execution_count": 81,
     "metadata": {},
     "output_type": "execute_result"
    }
   ],
   "source": [
    "from scipy.stats import skew\n",
    "skew(listing[\"price\"])"
   ]
  },
  {
   "cell_type": "markdown",
   "metadata": {},
   "source": [
    "### 4.4.2 Statistiques pour données qualitatives\n",
    "Les statistiques descriptives pour des variables qualitatives sont très différentes de celles pour des variables quantitatives. Ainsi, on s’intéresse généralement au mode et à la fréquence des modalités de la variable, Pour cela, on pourra obtenir des statistiques simples en utilisant la méthode *.describe(include = \"all\")*.\n",
    "\n",
    "D’autres approches sont possibles mais elles s’appliqueront variables par variables sur un objet Series. Ainsi, on peut utiliser :"
   ]
  },
  {
   "cell_type": "code",
   "execution_count": 82,
   "metadata": {},
   "outputs": [
    {
     "data": {
      "text/plain": [
       "3"
      ]
     },
     "execution_count": 82,
     "metadata": {},
     "output_type": "execute_result"
    }
   ],
   "source": [
    "# nombre de modalités\n",
    "listing[\"room_type\"].nunique()"
   ]
  },
  {
   "cell_type": "code",
   "execution_count": 83,
   "metadata": {},
   "outputs": [
    {
     "data": {
      "text/plain": [
       "array(['Entire home/apt', 'Private room', 'Shared room'], dtype=object)"
      ]
     },
     "execution_count": 83,
     "metadata": {},
     "output_type": "execute_result"
    }
   ],
   "source": [
    "# liste des modalités\n",
    "listing[\"room_type\"].unique()"
   ]
  },
  {
   "cell_type": "code",
   "execution_count": 84,
   "metadata": {},
   "outputs": [
    {
     "data": {
      "text/plain": [
       "Entire home/apt    4329\n",
       "Private room        623\n",
       "Shared room          48\n",
       "Name: room_type, dtype: int64"
      ]
     },
     "execution_count": 84,
     "metadata": {},
     "output_type": "execute_result"
    }
   ],
   "source": [
    "# liste et fréquence d’apparition des modalités\n",
    "listing[\"room_type\"].value_counts()"
   ]
  },
  {
   "cell_type": "code",
   "execution_count": 85,
   "metadata": {},
   "outputs": [
    {
     "data": {
      "text/plain": [
       "0    Entire home/apt\n",
       "dtype: object"
      ]
     },
     "execution_count": 85,
     "metadata": {},
     "output_type": "execute_result"
    }
   ],
   "source": [
    "# calcul du mode\n",
    "listing[\"room_type\"].mode()"
   ]
  },
  {
   "cell_type": "markdown",
   "metadata": {},
   "source": [
    "Ces méthodes vont compter le nombre de modalité, afficher toutes les modalités, afficher les modalités ordonnées par fréquence d’apparition avec la fréquence associée,et enfin afficher le mode (la modalité avec la fréquence la plus élevée).\n",
    "\n",
    "La méthode .value_counts() possède un certain nombre de paramètres pour inclure les données manquantes, normaliser les résultats..."
   ]
  },
  {
   "cell_type": "markdown",
   "metadata": {},
   "source": [
    "## 4.5 Utilisation du groupby pour décrire des données\n",
    "\n",
    "### 4.5.1 Le principe\n",
    "\n",
    "La méthode .groupby est une méthode qui permet de construire un objet à partir d’un DataFrame. Cet objet sépare les données en fonction des modalités d’une ou de plusieurs variables qualitatives. On obtiendra ainsi de manière quasi-immédiate des\n",
    "indicateurs par modalités. \n",
    "\n",
    "De nombreuses méthodes sont disponibles sur ces objets groupby afin de maximiser la simplicité de manipulation de données.\n",
    "Généralement, on suppose que le groupby est basé sur trois étapes : séparation/application et combinaison.\n",
    "\n",
    "Par exemple, sur les données AirBnB, on peut faire cela par type de chambres :"
   ]
  },
  {
   "cell_type": "code",
   "execution_count": 86,
   "metadata": {},
   "outputs": [
    {
     "data": {
      "text/plain": [
       "room_type\n",
       "Entire home/apt    102.853084\n",
       "Private room        68.255217\n",
       "Shared room         39.625000\n",
       "Name: price, dtype: float64"
      ]
     },
     "execution_count": 86,
     "metadata": {},
     "output_type": "execute_result"
    }
   ],
   "source": [
    "listing_group_room = listing.groupby(\"room_type\")\n",
    "listing_group_room[\"price\"].mean()"
   ]
  },
  {
   "cell_type": "markdown",
   "metadata": {},
   "source": [
    "On sépare et on calcule la moyenne, et on rassemble les résultats dans un nouvel objet. On affiche donc dans un objet Series les prix moyens par type de chambre. On voit ici qu’on a utilisé la méthode .mean() de la classe des objets groupby."
   ]
  },
  {
   "cell_type": "markdown",
   "metadata": {},
   "source": [
    "### 4.5.2 Les opérations sur les objets groupby\n",
    "On peut très simplement obtenir des statistiques plus poussées avec des groupby.\n",
    "\n",
    "De nombreuses méthodes de transformation de données pourront être appliquées avec une étape .groupby()."
   ]
  },
  {
   "cell_type": "markdown",
   "metadata": {},
   "source": [
    "### 4.5.3 Apply : une méthode importante pour manipuler vos groupby\n",
    "\n",
    "La méthode apply permet d’appliquer n’importe quelle fonction sur vos données.\n",
    "\n",
    "Si par exemple, vous désirez calculer l’écart salarial au sein de chaque département sur les données des salariés de la ville de Boston, vous allez devoir utiliser la différence entre le maximum et le minimum. Il n’existe pas de fonction universelle. \n",
    "\n",
    "Nous allons donc utiliser un groupby et la méthode apply :"
   ]
  },
  {
   "cell_type": "code",
   "execution_count": 87,
   "metadata": {},
   "outputs": [
    {
     "data": {
      "text/plain": [
       "DEPARTMENT NAME\n",
       "Boston Police Department    366229.15\n",
       "BPS Business Service        284561.66\n",
       "Boston Fire Department      276546.71\n",
       "Superintendent              243562.93\n",
       "Kilmer K-8                  228972.45\n",
       "Name: TOTAL EARNINGS, dtype: float64"
      ]
     },
     "execution_count": 87,
     "metadata": {},
     "output_type": "execute_result"
    }
   ],
   "source": [
    "diff_salaires_dep = boston.groupby('DEPARTMENT NAME')['TOTAL EARNINGS']\\\n",
    "                        .apply(lambda x : x.max()-x.min())\n",
    "diff_salaires_dep.sort_values(ascending = False).head()"
   ]
  },
  {
   "cell_type": "markdown",
   "metadata": {},
   "source": [
    "### 4.5.4 Cas concret d’utilisation d’un groupby\n",
    "\n",
    "Nous travaillons sur les données AirBnB. Nous désirons obtenir des statistiques descriptives sur les prix et leurs variations au sein de chaque arrondissement de Paris. Pour cela nous allons utiliser un groupby :"
   ]
  },
  {
   "cell_type": "code",
   "execution_count": 88,
   "metadata": {},
   "outputs": [
    {
     "data": {
      "text/html": [
       "<div>\n",
       "<style scoped>\n",
       "    .dataframe tbody tr th:only-of-type {\n",
       "        vertical-align: middle;\n",
       "    }\n",
       "\n",
       "    .dataframe tbody tr th {\n",
       "        vertical-align: top;\n",
       "    }\n",
       "\n",
       "    .dataframe thead th {\n",
       "        text-align: right;\n",
       "    }\n",
       "</style>\n",
       "<table border=\"1\" class=\"dataframe\">\n",
       "  <thead>\n",
       "    <tr style=\"text-align: right;\">\n",
       "      <th></th>\n",
       "      <th>mean</th>\n",
       "      <th>std</th>\n",
       "    </tr>\n",
       "    <tr>\n",
       "      <th>zip_clean2</th>\n",
       "      <th></th>\n",
       "      <th></th>\n",
       "    </tr>\n",
       "  </thead>\n",
       "  <tbody>\n",
       "    <tr>\n",
       "      <th>01</th>\n",
       "      <td>140.080808</td>\n",
       "      <td>86.504179</td>\n",
       "    </tr>\n",
       "    <tr>\n",
       "      <th>02</th>\n",
       "      <td>120.818792</td>\n",
       "      <td>74.224099</td>\n",
       "    </tr>\n",
       "    <tr>\n",
       "      <th>03</th>\n",
       "      <td>134.375566</td>\n",
       "      <td>155.931130</td>\n",
       "    </tr>\n",
       "    <tr>\n",
       "      <th>04</th>\n",
       "      <td>123.898810</td>\n",
       "      <td>76.812911</td>\n",
       "    </tr>\n",
       "    <tr>\n",
       "      <th>05</th>\n",
       "      <td>102.918129</td>\n",
       "      <td>72.464955</td>\n",
       "    </tr>\n",
       "    <tr>\n",
       "      <th>06</th>\n",
       "      <td>142.091603</td>\n",
       "      <td>124.404270</td>\n",
       "    </tr>\n",
       "    <tr>\n",
       "      <th>07</th>\n",
       "      <td>159.314685</td>\n",
       "      <td>150.858269</td>\n",
       "    </tr>\n",
       "    <tr>\n",
       "      <th>08</th>\n",
       "      <td>172.380531</td>\n",
       "      <td>143.977014</td>\n",
       "    </tr>\n",
       "    <tr>\n",
       "      <th>09</th>\n",
       "      <td>100.913420</td>\n",
       "      <td>80.027937</td>\n",
       "    </tr>\n",
       "    <tr>\n",
       "      <th>10</th>\n",
       "      <td>84.551136</td>\n",
       "      <td>52.311936</td>\n",
       "    </tr>\n",
       "    <tr>\n",
       "      <th>11</th>\n",
       "      <td>81.252465</td>\n",
       "      <td>52.426227</td>\n",
       "    </tr>\n",
       "    <tr>\n",
       "      <th>12</th>\n",
       "      <td>77.960000</td>\n",
       "      <td>37.047245</td>\n",
       "    </tr>\n",
       "    <tr>\n",
       "      <th>13</th>\n",
       "      <td>72.925287</td>\n",
       "      <td>42.594609</td>\n",
       "    </tr>\n",
       "    <tr>\n",
       "      <th>14</th>\n",
       "      <td>77.770950</td>\n",
       "      <td>44.701985</td>\n",
       "    </tr>\n",
       "    <tr>\n",
       "      <th>15</th>\n",
       "      <td>90.490667</td>\n",
       "      <td>62.075892</td>\n",
       "    </tr>\n",
       "    <tr>\n",
       "      <th>16</th>\n",
       "      <td>146.518072</td>\n",
       "      <td>226.945675</td>\n",
       "    </tr>\n",
       "    <tr>\n",
       "      <th>17</th>\n",
       "      <td>97.101587</td>\n",
       "      <td>129.904163</td>\n",
       "    </tr>\n",
       "    <tr>\n",
       "      <th>18</th>\n",
       "      <td>76.415254</td>\n",
       "      <td>55.400429</td>\n",
       "    </tr>\n",
       "    <tr>\n",
       "      <th>19</th>\n",
       "      <td>70.046875</td>\n",
       "      <td>65.244921</td>\n",
       "    </tr>\n",
       "    <tr>\n",
       "      <th>20</th>\n",
       "      <td>63.908127</td>\n",
       "      <td>34.827112</td>\n",
       "    </tr>\n",
       "  </tbody>\n",
       "</table>\n",
       "</div>"
      ],
      "text/plain": [
       "                  mean         std\n",
       "zip_clean2                        \n",
       "01          140.080808   86.504179\n",
       "02          120.818792   74.224099\n",
       "03          134.375566  155.931130\n",
       "04          123.898810   76.812911\n",
       "05          102.918129   72.464955\n",
       "06          142.091603  124.404270\n",
       "07          159.314685  150.858269\n",
       "08          172.380531  143.977014\n",
       "09          100.913420   80.027937\n",
       "10           84.551136   52.311936\n",
       "11           81.252465   52.426227\n",
       "12           77.960000   37.047245\n",
       "13           72.925287   42.594609\n",
       "14           77.770950   44.701985\n",
       "15           90.490667   62.075892\n",
       "16          146.518072  226.945675\n",
       "17           97.101587  129.904163\n",
       "18           76.415254   55.400429\n",
       "19           70.046875   65.244921\n",
       "20           63.908127   34.827112"
      ]
     },
     "execution_count": 88,
     "metadata": {},
     "output_type": "execute_result"
    }
   ],
   "source": [
    "# on nettoie les données de code postaux\n",
    "listing[\"zip_clean\"]=listing.zipcode.str.extract('(^\\d*)')\n",
    "# on ne garde que les code de 5 valeurs commençant par 75 et on extrait le numéro de l’arrondissement\n",
    "listing[\"zip_clean2\"]=np.where((listing[\"zip_clean\"].str[: 2]==\"75\")&(listing[\"zip_clean\"].str.len()==5),\n",
    "                               listing[\"zip_clean\"].str[-2 :], np.nan)\n",
    "# on construit des statistiques par arrondissement\n",
    "listing.groupby(\"zip_clean2\")[\"price\"].agg([\"mean\",\"std\"])"
   ]
  },
  {
   "cell_type": "markdown",
   "metadata": {},
   "source": [
    "Si nous désirons étudier les variations par arrondissement et par type d’appartement, nous pourrons avoir deux clés pour notre groupby :"
   ]
  },
  {
   "cell_type": "code",
   "execution_count": 89,
   "metadata": {},
   "outputs": [
    {
     "data": {
      "text/plain": [
       "zip_clean2  room_type      \n",
       "01          Entire home/apt    140.428571\n",
       "            Private room       145.833333\n",
       "            Shared room        107.333333\n",
       "02          Entire home/apt    125.123077\n",
       "            Private room        96.588235\n",
       "            Shared room         47.000000\n",
       "03          Entire home/apt    139.360577\n",
       "            Private room        57.000000\n",
       "            Shared room         26.000000\n",
       "04          Entire home/apt    125.371795\n",
       "            Private room       112.000000\n",
       "            Shared room         25.000000\n",
       "05          Entire home/apt    103.551948\n",
       "            Private room        97.176471\n",
       "06          Entire home/apt    146.040323\n",
       "            Private room        72.142857\n",
       "07          Entire home/apt    164.254098\n",
       "            Private room       135.250000\n",
       "            Shared room         38.000000\n",
       "08          Entire home/apt    180.774510\n",
       "            Private room        94.545455\n",
       "09          Entire home/apt    103.141414\n",
       "            Private room        88.625000\n",
       "            Shared room         53.000000\n",
       "10          Entire home/apt     89.403909\n",
       "            Private room        53.878049\n",
       "            Shared room         26.500000\n",
       "11          Entire home/apt     83.406593\n",
       "            Private room        63.840000\n",
       "            Shared room         26.500000\n",
       "12          Entire home/apt     82.251656\n",
       "            Private room        52.086957\n",
       "            Shared room         25.000000\n",
       "13          Entire home/apt     80.137681\n",
       "            Private room        47.032258\n",
       "            Shared room         34.400000\n",
       "14          Entire home/apt     83.032680\n",
       "            Private room        47.880000\n",
       "            Shared room         20.000000\n",
       "15          Entire home/apt     97.566879\n",
       "            Private room        55.789474\n",
       "            Shared room         29.500000\n",
       "16          Entire home/apt    150.395455\n",
       "            Private room       119.142857\n",
       "            Shared room         60.000000\n",
       "17          Entire home/apt    102.333333\n",
       "            Private room        73.745455\n",
       "            Shared room         64.500000\n",
       "18          Entire home/apt     79.535294\n",
       "            Private room        56.907895\n",
       "            Shared room         49.250000\n",
       "19          Entire home/apt     75.739336\n",
       "            Private room        45.097561\n",
       "            Shared room         25.500000\n",
       "20          Entire home/apt     68.206009\n",
       "            Private room        45.111111\n",
       "            Shared room         32.800000\n",
       "Name: price, dtype: float64"
      ]
     },
     "execution_count": 89,
     "metadata": {},
     "output_type": "execute_result"
    }
   ],
   "source": [
    "listing.groupby([\"zip_clean2\",\"room_type\"])[\"price\"].mean()"
   ]
  },
  {
   "cell_type": "markdown",
   "metadata": {},
   "source": [
    "De nombreuses autres applications sont disponibles avec le groupby."
   ]
  }
 ],
 "metadata": {
  "kernelspec": {
   "display_name": "Python 3",
   "language": "python",
   "name": "python3"
  },
  "language_info": {
   "codemirror_mode": {
    "name": "ipython",
    "version": 3
   },
   "file_extension": ".py",
   "mimetype": "text/x-python",
   "name": "python",
   "nbconvert_exporter": "python",
   "pygments_lexer": "ipython3",
   "version": "3.6.5"
  }
 },
 "nbformat": 4,
 "nbformat_minor": 2
}
